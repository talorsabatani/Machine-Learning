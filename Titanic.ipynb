{
  "nbformat": 4,
  "nbformat_minor": 0,
  "metadata": {
    "colab": {
      "name": "Titanic",
      "provenance": [],
      "collapsed_sections": [],
      "authorship_tag": "ABX9TyM7OV+43HJeSopY0nEzNG5v",
      "include_colab_link": true
    },
    "kernelspec": {
      "name": "python3",
      "display_name": "Python 3"
    }
  },
  "cells": [
    {
      "cell_type": "markdown",
      "metadata": {
        "id": "view-in-github",
        "colab_type": "text"
      },
      "source": [
        "<a href=\"https://colab.research.google.com/github/talorsabatani/machine-learning/blob/main/Titanic.ipynb\" target=\"_parent\"><img src=\"https://colab.research.google.com/assets/colab-badge.svg\" alt=\"Open In Colab\"/></a>"
      ]
    },
    {
      "cell_type": "markdown",
      "metadata": {
        "id": "ZX61cX8ulBYj"
      },
      "source": [
        "#My Details\n",
        "Name: Talor Sabatani  \n",
        "Link:   https://www.kaggle.com/talorsabatani"
      ]
    },
    {
      "cell_type": "markdown",
      "metadata": {
        "id": "dwA8BsCBkPH7"
      },
      "source": [
        "# Titanic, in full Royal Mail Ship (RMS) Titanic\n",
        "British luxury passenger liner that sank on April 14–15, 1912, during its maiden voyage, en route to New York City from Southampton, England, killing about 1,500 (see Researcher’s Note: Titanic) passengers and ship personnel. One of the most famous tragedies in modern history, it inspired numerous stories, several films, and a musical and has been the subject of much scholarship and scientific speculation.\n",
        "\n",
        "![titanicclem](https://user-images.githubusercontent.com/49269120/99374548-5b4a4c00-28cb-11eb-85f5-d35e78075d5e.jpg)\n",
        "\n",
        "\n",
        "\n",
        "\n",
        "*read more:* \n",
        "[britannica.com/topic/International-Ice-Patrol](https://) \n",
        "\n",
        "\n",
        "\n",
        "\n",
        "\n",
        "\n",
        "\n",
        "\n",
        "---\n",
        "\n",
        "\n",
        "\n",
        "\n",
        "\n",
        "\n",
        "\n",
        "\n"
      ]
    },
    {
      "cell_type": "markdown",
      "metadata": {
        "id": "fjH1zBdRlmpX"
      },
      "source": [
        "#Competition\n",
        "**Goal**  \n",
        "It is your job to predict if a passenger survived the sinking of the Titanic or not.\n",
        "Your score is the percentage of passengers you correctly predict. This is known as accuracy.\n"
      ]
    },
    {
      "cell_type": "markdown",
      "metadata": {
        "id": "XrqzkjCg27xH"
      },
      "source": [
        "# **Let's analyze and see what we have here**\n",
        "\n",
        "\n",
        "Content:\n",
        "1.   Load and check data\n",
        "1.   Missing value\n",
        "2.   Visualization and Feature Relations\n",
        "2.   Correlation between feature in a Heatmap\n",
        "1.   Classification\n",
        "1.   My submission\n",
        "1.   References\n",
        "\n",
        "\n"
      ]
    },
    {
      "cell_type": "markdown",
      "metadata": {
        "id": "5xZewQef6QwA"
      },
      "source": [
        "# Imports"
      ]
    },
    {
      "cell_type": "code",
      "metadata": {
        "id": "saAyzaNasw_J"
      },
      "source": [
        "import math\n",
        "import matplotlib as mpl\n",
        "import matplotlib.pyplot as plt\n",
        "import matplotlib.gridspec as grid_spec\n",
        "from matplotlib.ticker import FuncFormatter\n",
        "import seaborn as sns\n",
        "import numpy as np\n",
        "import pandas as pd\n",
        "from sklearn import model_selection\n",
        "import warnings\n",
        "warnings.simplefilter(action='ignore', category=FutureWarning)\n",
        "\n",
        "plt.rcParams[\"font.size\"] = 20\n",
        "plt.rcParams[\"axes.labelsize\"] = 20\n",
        "plt.rcParams[\"xtick.labelsize\"] = 15\n",
        "plt.rcParams[\"ytick.labelsize\"] = 15\n",
        "plt.rcParams[\"legend.fontsize\"] = 20\n",
        "plt.rcParams[\"figure.figsize\"] = (20,10)"
      ],
      "execution_count": 78,
      "outputs": []
    },
    {
      "cell_type": "markdown",
      "metadata": {
        "id": "XjQ1jAjrCON7"
      },
      "source": [
        "#1. Load and check data\n",
        "\n",
        "---\n",
        "\n"
      ]
    },
    {
      "cell_type": "markdown",
      "metadata": {
        "id": "s9qdHTRkmReZ"
      },
      "source": [
        "##Loading Datasets⏳\n",
        "\n",
        "Let's take a look at the data we have.\n"
      ]
    },
    {
      "cell_type": "code",
      "metadata": {
        "id": "NlsQljaDs-EP"
      },
      "source": [
        "train_df = pd.read_csv('/content/train.csv')\n",
        "test_df = pd.read_csv('/content/test.csv')"
      ],
      "execution_count": 79,
      "outputs": []
    },
    {
      "cell_type": "markdown",
      "metadata": {
        "id": "AnNGg_yV_zQq"
      },
      "source": [
        " \n",
        "**Data Description**\n",
        "\n",
        "---\n",
        "\n",
        "\n",
        "🟣 `Train.csv` will contain the details of a subset of the passengers on board (891 to be exact) and importantly, will reveal whether they survived or not, also known as the “ground truth”.  \n",
        "🟢 The `test.csv` dataset contains similar information but does not disclose the “ground truth” for each passenger. It’s your job to predict these outcomes.\n",
        "\n",
        "**Variable Description**  \n",
        "\n",
        "\n",
        "---\n",
        "\n",
        "\n",
        "  1.   PassengerId: unique id number to each passenger  \n",
        "  1.   Survived: passenger survive(1) or died(0)\n",
        "  2.   Pclass: passenger class  \n",
        "  1.   Name: name\n",
        "  2.   Sex: gender of passengers \n",
        "  1.   Age: age of passengers  \n",
        "  1.   SibSp: number of siblings/spouses\n",
        "  2.   Parch: number of parents/children   \n",
        "  2.   Ticket: ticket number  \n",
        "  2.   Fare: amount of money spent on ticket  \n",
        "  2.   Cabin: cabin category    \n",
        "  2.   Embarked: port where passenger embarked (C=Cherbourg, Q=Queenstown, S=Southampton)\n",
        "\n",
        "\n",
        "\n",
        "\n",
        "\n",
        " \n",
        "\n",
        "  \n",
        " \n",
        "\n",
        "  \n",
        "\n",
        "\n",
        "\n",
        "\n",
        "  \n",
        "  \n"
      ]
    },
    {
      "cell_type": "code",
      "metadata": {
        "id": "x4ekCZhM3vkP",
        "colab": {
          "base_uri": "https://localhost:8080/"
        },
        "outputId": "36129da6-5a61-48ae-cc03-66e1c06e7ef3"
      },
      "source": [
        "print (\"The train data:\")\n",
        "print (train_df.info())\n",
        "print (\"\\nThe test data:\")\n",
        "print (test_df.info())"
      ],
      "execution_count": 80,
      "outputs": [
        {
          "output_type": "stream",
          "text": [
            "The train data:\n",
            "<class 'pandas.core.frame.DataFrame'>\n",
            "RangeIndex: 891 entries, 0 to 890\n",
            "Data columns (total 12 columns):\n",
            " #   Column       Non-Null Count  Dtype  \n",
            "---  ------       --------------  -----  \n",
            " 0   PassengerId  891 non-null    int64  \n",
            " 1   Survived     891 non-null    int64  \n",
            " 2   Pclass       891 non-null    int64  \n",
            " 3   Name         891 non-null    object \n",
            " 4   Sex          891 non-null    object \n",
            " 5   Age          714 non-null    float64\n",
            " 6   SibSp        891 non-null    int64  \n",
            " 7   Parch        891 non-null    int64  \n",
            " 8   Ticket       891 non-null    object \n",
            " 9   Fare         891 non-null    float64\n",
            " 10  Cabin        204 non-null    object \n",
            " 11  Embarked     889 non-null    object \n",
            "dtypes: float64(2), int64(5), object(5)\n",
            "memory usage: 83.7+ KB\n",
            "None\n",
            "\n",
            "The test data:\n",
            "<class 'pandas.core.frame.DataFrame'>\n",
            "RangeIndex: 418 entries, 0 to 417\n",
            "Data columns (total 11 columns):\n",
            " #   Column       Non-Null Count  Dtype  \n",
            "---  ------       --------------  -----  \n",
            " 0   PassengerId  418 non-null    int64  \n",
            " 1   Pclass       418 non-null    int64  \n",
            " 2   Name         418 non-null    object \n",
            " 3   Sex          418 non-null    object \n",
            " 4   Age          332 non-null    float64\n",
            " 5   SibSp        418 non-null    int64  \n",
            " 6   Parch        418 non-null    int64  \n",
            " 7   Ticket       418 non-null    object \n",
            " 8   Fare         417 non-null    float64\n",
            " 9   Cabin        91 non-null     object \n",
            " 10  Embarked     418 non-null    object \n",
            "dtypes: float64(2), int64(4), object(5)\n",
            "memory usage: 36.0+ KB\n",
            "None\n"
          ],
          "name": "stdout"
        }
      ]
    },
    {
      "cell_type": "markdown",
      "metadata": {
        "id": "kbRyynKv5Vyn"
      },
      "source": [
        "Conclusions:\n",
        "\n",
        "*   These data sets's feature have unequal amount of data entries for every column and they have many different types of variables.   \n",
        "This can happen for the missing values in our features, alphanumerical or text features. \n",
        "\n",
        "*   The test set does not provide passengers survival feature.  \n",
        " We are going to predict passenger survival status.\n",
        "\n",
        "\n"
      ]
    },
    {
      "cell_type": "markdown",
      "metadata": {
        "id": "nQTfsAmC02Uv"
      },
      "source": [
        "Let's get a better perspective of the dataset through this visualization.  https://public.tableau.com/profile/masum.rumi#!/vizhome/Titanic_data_mining/Dashboard1"
      ]
    },
    {
      "cell_type": "markdown",
      "metadata": {
        "id": "8Y0OLDvb5tP5"
      },
      "source": [
        "#2. Missing values🎩\n",
        "\n",
        "---"
      ]
    },
    {
      "cell_type": "markdown",
      "metadata": {
        "id": "2fK3TJiBUwwi"
      },
      "source": [
        "We find out that small part of the data is missing.  \n",
        "It doesn't excite us, because we are going to predict them together **😎**\n"
      ]
    },
    {
      "cell_type": "markdown",
      "metadata": {
        "id": "8FAR9gzFHTpU"
      },
      "source": [
        "###🟣 Missing values in **train** dataset\n",
        "\n",
        "\n",
        "---"
      ]
    },
    {
      "cell_type": "code",
      "metadata": {
        "id": "kPfV0kozgrPw",
        "colab": {
          "base_uri": "https://localhost:8080/"
        },
        "outputId": "09fdcbcb-5952-48e2-814a-4573aa2cbfa0"
      },
      "source": [
        "#missing columns\n",
        "train_df.isna().any()"
      ],
      "execution_count": 81,
      "outputs": [
        {
          "output_type": "execute_result",
          "data": {
            "text/plain": [
              "PassengerId    False\n",
              "Survived       False\n",
              "Pclass         False\n",
              "Name           False\n",
              "Sex            False\n",
              "Age             True\n",
              "SibSp          False\n",
              "Parch          False\n",
              "Ticket         False\n",
              "Fare           False\n",
              "Cabin           True\n",
              "Embarked        True\n",
              "dtype: bool"
            ]
          },
          "metadata": {
            "tags": []
          },
          "execution_count": 81
        }
      ]
    },
    {
      "cell_type": "markdown",
      "metadata": {
        "id": "6QQy7H3UbaFd"
      },
      "source": [
        "As you can see there are missing values in the   \n",
        "~Age  \n",
        "~Cabin  \n",
        "~Embarked  "
      ]
    },
    {
      "cell_type": "code",
      "metadata": {
        "id": "_kZPH6Ce0yhr",
        "colab": {
          "base_uri": "https://localhost:8080/",
          "height": 481
        },
        "outputId": "23c86c2b-3566-4eb6-ada0-05990a3da0a7"
      },
      "source": [
        "train_df.nunique().plot.bar(figsize=(12,6),fontsize=12, color ='chocolate')\n",
        "plt.ylabel('Number of unique categories')\n",
        "plt.xlabel('Variables')\n",
        "plt.title('Total missing value in train dataset', fontsize=20, color='chocolate');"
      ],
      "execution_count": 82,
      "outputs": [
        {
          "output_type": "display_data",
          "data": {
            "image/png": "[encoded data removed]",
            "text/plain": [
              "<Figure size 864x432 with 1 Axes>"
            ]
          },
          "metadata": {
            "tags": [],
            "needs_background": "light"
          }
        }
      ]
    },
    {
      "cell_type": "markdown",
      "metadata": {
        "id": "SzN5bJTNBX5h"
      },
      "source": [
        "It's not so clear to see the missing values in this visualization.  \n",
        "Probably because that few features are missing ,it's difficult to discern this representation.  \n",
        "Therefore we will calculate the values in the table"
      ]
    },
    {
      "cell_type": "markdown",
      "metadata": {
        "id": "QT7y5Tca1k60"
      },
      "source": [
        "Total missing values and missing percentage in **train** dataset:\n",
        "\n",
        "\n"
      ]
    },
    {
      "cell_type": "code",
      "metadata": {
        "id": "z96_u8JmcQNy"
      },
      "source": [
        "def missing_percentage(df):\n",
        "  total = df.isnull().sum().sort_values(ascending = False)\n",
        "  percent = round(df.isnull().sum().sort_values(ascending = False)/len(df)*100,2)\n",
        "  return pd.concat([total, percent], axis=1, keys=['Total','Percent']) "
      ],
      "execution_count": 83,
      "outputs": []
    },
    {
      "cell_type": "code",
      "metadata": {
        "id": "c5j8Y_iA5sYx",
        "colab": {
          "base_uri": "https://localhost:8080/",
          "height": 417
        },
        "outputId": "cfd7610d-4f67-479a-d870-28531ead6399"
      },
      "source": [
        "missing_percentage(train_df)"
      ],
      "execution_count": 84,
      "outputs": [
        {
          "output_type": "execute_result",
          "data": {
            "text/html": [
              "<div>\n",
              "<style scoped>\n",
              "    .dataframe tbody tr th:only-of-type {\n",
              "        vertical-align: middle;\n",
              "    }\n",
              "\n",
              "    .dataframe tbody tr th {\n",
              "        vertical-align: top;\n",
              "    }\n",
              "\n",
              "    .dataframe thead th {\n",
              "        text-align: right;\n",
              "    }\n",
              "</style>\n",
              "<table border=\"1\" class=\"dataframe\">\n",
              "  <thead>\n",
              "    <tr style=\"text-align: right;\">\n",
              "      <th></th>\n",
              "      <th>Total</th>\n",
              "      <th>Percent</th>\n",
              "    </tr>\n",
              "  </thead>\n",
              "  <tbody>\n",
              "    <tr>\n",
              "      <th>Cabin</th>\n",
              "      <td>687</td>\n",
              "      <td>77.10</td>\n",
              "    </tr>\n",
              "    <tr>\n",
              "      <th>Age</th>\n",
              "      <td>177</td>\n",
              "      <td>19.87</td>\n",
              "    </tr>\n",
              "    <tr>\n",
              "      <th>Embarked</th>\n",
              "      <td>2</td>\n",
              "      <td>0.22</td>\n",
              "    </tr>\n",
              "    <tr>\n",
              "      <th>Fare</th>\n",
              "      <td>0</td>\n",
              "      <td>0.00</td>\n",
              "    </tr>\n",
              "    <tr>\n",
              "      <th>Ticket</th>\n",
              "      <td>0</td>\n",
              "      <td>0.00</td>\n",
              "    </tr>\n",
              "    <tr>\n",
              "      <th>Parch</th>\n",
              "      <td>0</td>\n",
              "      <td>0.00</td>\n",
              "    </tr>\n",
              "    <tr>\n",
              "      <th>SibSp</th>\n",
              "      <td>0</td>\n",
              "      <td>0.00</td>\n",
              "    </tr>\n",
              "    <tr>\n",
              "      <th>Sex</th>\n",
              "      <td>0</td>\n",
              "      <td>0.00</td>\n",
              "    </tr>\n",
              "    <tr>\n",
              "      <th>Name</th>\n",
              "      <td>0</td>\n",
              "      <td>0.00</td>\n",
              "    </tr>\n",
              "    <tr>\n",
              "      <th>Pclass</th>\n",
              "      <td>0</td>\n",
              "      <td>0.00</td>\n",
              "    </tr>\n",
              "    <tr>\n",
              "      <th>Survived</th>\n",
              "      <td>0</td>\n",
              "      <td>0.00</td>\n",
              "    </tr>\n",
              "    <tr>\n",
              "      <th>PassengerId</th>\n",
              "      <td>0</td>\n",
              "      <td>0.00</td>\n",
              "    </tr>\n",
              "  </tbody>\n",
              "</table>\n",
              "</div>"
            ],
            "text/plain": [
              "             Total  Percent\n",
              "Cabin          687    77.10\n",
              "Age            177    19.87\n",
              "Embarked         2     0.22\n",
              "Fare             0     0.00\n",
              "Ticket           0     0.00\n",
              "Parch            0     0.00\n",
              "SibSp            0     0.00\n",
              "Sex              0     0.00\n",
              "Name             0     0.00\n",
              "Pclass           0     0.00\n",
              "Survived         0     0.00\n",
              "PassengerId      0     0.00"
            ]
          },
          "metadata": {
            "tags": []
          },
          "execution_count": 84
        }
      ]
    },
    {
      "cell_type": "markdown",
      "metadata": {
        "id": "np_m_S2MQQw4"
      },
      "source": [
        "###🟢 Missing values in **test** dataset\n",
        "\n",
        "---\n",
        "\n",
        " \n"
      ]
    },
    {
      "cell_type": "code",
      "metadata": {
        "id": "tNYyjfzjQRLP",
        "colab": {
          "base_uri": "https://localhost:8080/"
        },
        "outputId": "8c383812-2742-49c8-9e33-e015fb62e3a8"
      },
      "source": [
        "#missing columns\n",
        "test_df.isna().any()"
      ],
      "execution_count": 85,
      "outputs": [
        {
          "output_type": "execute_result",
          "data": {
            "text/plain": [
              "PassengerId    False\n",
              "Pclass         False\n",
              "Name           False\n",
              "Sex            False\n",
              "Age             True\n",
              "SibSp          False\n",
              "Parch          False\n",
              "Ticket         False\n",
              "Fare            True\n",
              "Cabin           True\n",
              "Embarked       False\n",
              "dtype: bool"
            ]
          },
          "metadata": {
            "tags": []
          },
          "execution_count": 85
        }
      ]
    },
    {
      "cell_type": "markdown",
      "metadata": {
        "id": "l-HEN1DadwFC"
      },
      "source": [
        "Missing values in **test** dataset.\n",
        "\n",
        "As you can see there are missing values in the   \n",
        "~Age  \n",
        "~Cabin  \n",
        "~Fare  \n"
      ]
    },
    {
      "cell_type": "code",
      "metadata": {
        "id": "exgdZ44Tc8BF",
        "colab": {
          "base_uri": "https://localhost:8080/",
          "height": 386
        },
        "outputId": "39c2c8f8-8751-47a9-c764-ff731096fbd0"
      },
      "source": [
        "missing_percentage(test_df)"
      ],
      "execution_count": 86,
      "outputs": [
        {
          "output_type": "execute_result",
          "data": {
            "text/html": [
              "<div>\n",
              "<style scoped>\n",
              "    .dataframe tbody tr th:only-of-type {\n",
              "        vertical-align: middle;\n",
              "    }\n",
              "\n",
              "    .dataframe tbody tr th {\n",
              "        vertical-align: top;\n",
              "    }\n",
              "\n",
              "    .dataframe thead th {\n",
              "        text-align: right;\n",
              "    }\n",
              "</style>\n",
              "<table border=\"1\" class=\"dataframe\">\n",
              "  <thead>\n",
              "    <tr style=\"text-align: right;\">\n",
              "      <th></th>\n",
              "      <th>Total</th>\n",
              "      <th>Percent</th>\n",
              "    </tr>\n",
              "  </thead>\n",
              "  <tbody>\n",
              "    <tr>\n",
              "      <th>Cabin</th>\n",
              "      <td>327</td>\n",
              "      <td>78.23</td>\n",
              "    </tr>\n",
              "    <tr>\n",
              "      <th>Age</th>\n",
              "      <td>86</td>\n",
              "      <td>20.57</td>\n",
              "    </tr>\n",
              "    <tr>\n",
              "      <th>Fare</th>\n",
              "      <td>1</td>\n",
              "      <td>0.24</td>\n",
              "    </tr>\n",
              "    <tr>\n",
              "      <th>Embarked</th>\n",
              "      <td>0</td>\n",
              "      <td>0.00</td>\n",
              "    </tr>\n",
              "    <tr>\n",
              "      <th>Ticket</th>\n",
              "      <td>0</td>\n",
              "      <td>0.00</td>\n",
              "    </tr>\n",
              "    <tr>\n",
              "      <th>Parch</th>\n",
              "      <td>0</td>\n",
              "      <td>0.00</td>\n",
              "    </tr>\n",
              "    <tr>\n",
              "      <th>SibSp</th>\n",
              "      <td>0</td>\n",
              "      <td>0.00</td>\n",
              "    </tr>\n",
              "    <tr>\n",
              "      <th>Sex</th>\n",
              "      <td>0</td>\n",
              "      <td>0.00</td>\n",
              "    </tr>\n",
              "    <tr>\n",
              "      <th>Name</th>\n",
              "      <td>0</td>\n",
              "      <td>0.00</td>\n",
              "    </tr>\n",
              "    <tr>\n",
              "      <th>Pclass</th>\n",
              "      <td>0</td>\n",
              "      <td>0.00</td>\n",
              "    </tr>\n",
              "    <tr>\n",
              "      <th>PassengerId</th>\n",
              "      <td>0</td>\n",
              "      <td>0.00</td>\n",
              "    </tr>\n",
              "  </tbody>\n",
              "</table>\n",
              "</div>"
            ],
            "text/plain": [
              "             Total  Percent\n",
              "Cabin          327    78.23\n",
              "Age             86    20.57\n",
              "Fare             1     0.24\n",
              "Embarked         0     0.00\n",
              "Ticket           0     0.00\n",
              "Parch            0     0.00\n",
              "SibSp            0     0.00\n",
              "Sex              0     0.00\n",
              "Name             0     0.00\n",
              "Pclass           0     0.00\n",
              "PassengerId      0     0.00"
            ]
          },
          "metadata": {
            "tags": []
          },
          "execution_count": 86
        }
      ]
    },
    {
      "cell_type": "markdown",
      "metadata": {
        "id": "a9jNm_UJu8d9"
      },
      "source": [
        "### In conclusionת we have 4 features with missing in the data train and data test   \n",
        "**a.** Embarked   (🟣train)   \n",
        "**b.** Age   (both 🟣train & 🟢test)   \n",
        "**c.** Cabin    (both 🟣train & 🟢test)   \n",
        "**d.** Fare  (**🟢test**)  \n"
      ]
    },
    {
      "cell_type": "markdown",
      "metadata": {
        "id": "ehJQRykDuZEt"
      },
      "source": [
        "#**Part 2: Let's deal with these missing values**\n",
        "\n",
        "---\n",
        "\n",
        "\n",
        "\n"
      ]
    },
    {
      "cell_type": "markdown",
      "metadata": {
        "id": "vsBtF4OJALwu"
      },
      "source": [
        "### **2a.🟣 Embarked feature** - missing in the train *dataset*\n",
        "\n",
        "\n",
        "---\n",
        "\n",
        "\n"
      ]
    },
    {
      "cell_type": "code",
      "metadata": {
        "id": "vCkEHhxg3JZy",
        "colab": {
          "base_uri": "https://localhost:8080/"
        },
        "outputId": "8ebbd8ba-bf74-408c-cf3d-969e51f8f5d6"
      },
      "source": [
        "def embarked_perecent_missing(df):\n",
        "  return str(df.Embarked.isnull().sum()/len(df.Age)*100)\n",
        "def embarked_count_missing(df):\n",
        "  return str(df.Embarked.isnull().sum())\n",
        "print(\"Train Embarked missing: \" + embarked_perecent_missing(train_df) + \"%\")\n",
        "print(\"There are \" + str(train_df.Embarked.isnull().sum()) + \" missing values\")"
      ],
      "execution_count": 87,
      "outputs": [
        {
          "output_type": "stream",
          "text": [
            "Train Embarked missing: 0.22446689113355783%\n",
            "There are 2 missing values\n"
          ],
          "name": "stdout"
        }
      ]
    },
    {
      "cell_type": "markdown",
      "metadata": {
        "id": "0QpdQ7wj4J_i"
      },
      "source": [
        "We have only 2 null values (0.22%) in the train dataset "
      ]
    },
    {
      "cell_type": "code",
      "metadata": {
        "id": "IsQbvXvx8Ukx",
        "colab": {
          "base_uri": "https://localhost:8080/",
          "height": 189
        },
        "outputId": "baa8a549-7434-4618-ba89-5ca1d7607fc3"
      },
      "source": [
        "#finds the percentage of the value_counts\n",
        "percent = pd.DataFrame(round(train_df.loc[:,'Embarked'].value_counts(dropna=False, normalize=True)*100,2))\n",
        "total = pd.DataFrame(train_df.loc[:,'Embarked'].value_counts(dropna=False))\n",
        "total.columns = [\"Total\"]\n",
        "percent.columns = ['Percent']\n",
        "print('NON UNIQE VALUES   -total and percent')\n",
        "pd.concat([total, percent], axis = 1)"
      ],
      "execution_count": 88,
      "outputs": [
        {
          "output_type": "stream",
          "text": [
            "NON UNIQE VALUES   -total and percent\n"
          ],
          "name": "stdout"
        },
        {
          "output_type": "execute_result",
          "data": {
            "text/html": [
              "<div>\n",
              "<style scoped>\n",
              "    .dataframe tbody tr th:only-of-type {\n",
              "        vertical-align: middle;\n",
              "    }\n",
              "\n",
              "    .dataframe tbody tr th {\n",
              "        vertical-align: top;\n",
              "    }\n",
              "\n",
              "    .dataframe thead th {\n",
              "        text-align: right;\n",
              "    }\n",
              "</style>\n",
              "<table border=\"1\" class=\"dataframe\">\n",
              "  <thead>\n",
              "    <tr style=\"text-align: right;\">\n",
              "      <th></th>\n",
              "      <th>Total</th>\n",
              "      <th>Percent</th>\n",
              "    </tr>\n",
              "  </thead>\n",
              "  <tbody>\n",
              "    <tr>\n",
              "      <th>S</th>\n",
              "      <td>644</td>\n",
              "      <td>72.28</td>\n",
              "    </tr>\n",
              "    <tr>\n",
              "      <th>C</th>\n",
              "      <td>168</td>\n",
              "      <td>18.86</td>\n",
              "    </tr>\n",
              "    <tr>\n",
              "      <th>Q</th>\n",
              "      <td>77</td>\n",
              "      <td>8.64</td>\n",
              "    </tr>\n",
              "    <tr>\n",
              "      <th>NaN</th>\n",
              "      <td>2</td>\n",
              "      <td>0.22</td>\n",
              "    </tr>\n",
              "  </tbody>\n",
              "</table>\n",
              "</div>"
            ],
            "text/plain": [
              "     Total  Percent\n",
              "S      644    72.28\n",
              "C      168    18.86\n",
              "Q       77     8.64\n",
              "NaN      2     0.22"
            ]
          },
          "metadata": {
            "tags": []
          },
          "execution_count": 88
        }
      ]
    },
    {
      "cell_type": "markdown",
      "metadata": {
        "id": "Vntq7ri5Nc4Z"
      },
      "source": [
        "Let's check who these two passengers with the null values and what we can deduce from them"
      ]
    },
    {
      "cell_type": "code",
      "metadata": {
        "id": "kNPQj0IlWLpi",
        "colab": {
          "base_uri": "https://localhost:8080/",
          "height": 110
        },
        "outputId": "004c18d2-0349-4c78-b844-02433321c47d"
      },
      "source": [
        "train_df[train_df.Embarked.isnull()]"
      ],
      "execution_count": 89,
      "outputs": [
        {
          "output_type": "execute_result",
          "data": {
            "text/html": [
              "<div>\n",
              "<style scoped>\n",
              "    .dataframe tbody tr th:only-of-type {\n",
              "        vertical-align: middle;\n",
              "    }\n",
              "\n",
              "    .dataframe tbody tr th {\n",
              "        vertical-align: top;\n",
              "    }\n",
              "\n",
              "    .dataframe thead th {\n",
              "        text-align: right;\n",
              "    }\n",
              "</style>\n",
              "<table border=\"1\" class=\"dataframe\">\n",
              "  <thead>\n",
              "    <tr style=\"text-align: right;\">\n",
              "      <th></th>\n",
              "      <th>PassengerId</th>\n",
              "      <th>Survived</th>\n",
              "      <th>Pclass</th>\n",
              "      <th>Name</th>\n",
              "      <th>Sex</th>\n",
              "      <th>Age</th>\n",
              "      <th>SibSp</th>\n",
              "      <th>Parch</th>\n",
              "      <th>Ticket</th>\n",
              "      <th>Fare</th>\n",
              "      <th>Cabin</th>\n",
              "      <th>Embarked</th>\n",
              "    </tr>\n",
              "  </thead>\n",
              "  <tbody>\n",
              "    <tr>\n",
              "      <th>61</th>\n",
              "      <td>62</td>\n",
              "      <td>1</td>\n",
              "      <td>1</td>\n",
              "      <td>Icard, Miss. Amelie</td>\n",
              "      <td>female</td>\n",
              "      <td>38.0</td>\n",
              "      <td>0</td>\n",
              "      <td>0</td>\n",
              "      <td>113572</td>\n",
              "      <td>80.0</td>\n",
              "      <td>B28</td>\n",
              "      <td>NaN</td>\n",
              "    </tr>\n",
              "    <tr>\n",
              "      <th>829</th>\n",
              "      <td>830</td>\n",
              "      <td>1</td>\n",
              "      <td>1</td>\n",
              "      <td>Stone, Mrs. George Nelson (Martha Evelyn)</td>\n",
              "      <td>female</td>\n",
              "      <td>62.0</td>\n",
              "      <td>0</td>\n",
              "      <td>0</td>\n",
              "      <td>113572</td>\n",
              "      <td>80.0</td>\n",
              "      <td>B28</td>\n",
              "      <td>NaN</td>\n",
              "    </tr>\n",
              "  </tbody>\n",
              "</table>\n",
              "</div>"
            ],
            "text/plain": [
              "     PassengerId  Survived  Pclass  ...  Fare Cabin  Embarked\n",
              "61            62         1       1  ...  80.0   B28       NaN\n",
              "829          830         1       1  ...  80.0   B28       NaN\n",
              "\n",
              "[2 rows x 12 columns]"
            ]
          },
          "metadata": {
            "tags": []
          },
          "execution_count": 89
        }
      ]
    },
    {
      "cell_type": "markdown",
      "metadata": {
        "id": "b3bBnYeUcHfB"
      },
      "source": [
        "We find a common denominator for two passengers.  \n",
        "Both passengers ***servivrd***, belong to ***first class***, ***cabin*** B28, ***female***, paid a ***fare*** of $80 and they have the same ***ticket number***.\n",
        "According to the data analysis, I assume that there have a family connection between them (Maybe mother and daughter or sisters).  \n",
        "  \n",
        "\n",
        "\n",
        "\n",
        "  \n",
        "\n",
        "Let's see the combine between the **price of the ticket, embarked and sex.**"
      ]
    },
    {
      "cell_type": "code",
      "metadata": {
        "id": "2rF3K8O_hjiu",
        "colab": {
          "base_uri": "https://localhost:8080/",
          "height": 402
        },
        "outputId": "81cd0973-4e08-4861-8524-e0b05766e73e"
      },
      "source": [
        "plt.figure(figsize=(7,6))\n",
        "g = sns.barplot(x='Pclass' ,y='Fare', hue='Sex', data=train_df, palette=\"Blues_d\",  )\n",
        "plt.axhline(y=80);\n"
      ],
      "execution_count": 90,
      "outputs": [
        {
          "output_type": "display_data",
          "data": {
            "image/png": "[encoded data removed]",
            "text/plain": [
              "<Figure size 504x432 with 1 Axes>"
            ]
          },
          "metadata": {
            "tags": [],
            "needs_background": "light"
          }
        }
      ]
    },
    {
      "cell_type": "markdown",
      "metadata": {
        "id": "Jb5Muwu81YAM"
      },
      "source": [
        "We can conclude in this case that a female who bought a ticket for $80, she probably belong to the first class"
      ]
    },
    {
      "cell_type": "code",
      "metadata": {
        "colab": {
          "base_uri": "https://localhost:8080/",
          "height": 355
        },
        "id": "juI30o-aRSRY",
        "outputId": "0ce5dc97-eac4-4ccb-9256-19515cf2baef"
      },
      "source": [
        "pd.pivot_table(train_df, values='Survived', index=['Pclass', 'Embarked' ], columns='Sex')"
      ],
      "execution_count": 91,
      "outputs": [
        {
          "output_type": "execute_result",
          "data": {
            "text/html": [
              "<div>\n",
              "<style scoped>\n",
              "    .dataframe tbody tr th:only-of-type {\n",
              "        vertical-align: middle;\n",
              "    }\n",
              "\n",
              "    .dataframe tbody tr th {\n",
              "        vertical-align: top;\n",
              "    }\n",
              "\n",
              "    .dataframe thead th {\n",
              "        text-align: right;\n",
              "    }\n",
              "</style>\n",
              "<table border=\"1\" class=\"dataframe\">\n",
              "  <thead>\n",
              "    <tr style=\"text-align: right;\">\n",
              "      <th></th>\n",
              "      <th>Sex</th>\n",
              "      <th>female</th>\n",
              "      <th>male</th>\n",
              "    </tr>\n",
              "    <tr>\n",
              "      <th>Pclass</th>\n",
              "      <th>Embarked</th>\n",
              "      <th></th>\n",
              "      <th></th>\n",
              "    </tr>\n",
              "  </thead>\n",
              "  <tbody>\n",
              "    <tr>\n",
              "      <th rowspan=\"3\" valign=\"top\">1</th>\n",
              "      <th>C</th>\n",
              "      <td>0.976744</td>\n",
              "      <td>0.404762</td>\n",
              "    </tr>\n",
              "    <tr>\n",
              "      <th>Q</th>\n",
              "      <td>1.000000</td>\n",
              "      <td>0.000000</td>\n",
              "    </tr>\n",
              "    <tr>\n",
              "      <th>S</th>\n",
              "      <td>0.958333</td>\n",
              "      <td>0.354430</td>\n",
              "    </tr>\n",
              "    <tr>\n",
              "      <th rowspan=\"3\" valign=\"top\">2</th>\n",
              "      <th>C</th>\n",
              "      <td>1.000000</td>\n",
              "      <td>0.200000</td>\n",
              "    </tr>\n",
              "    <tr>\n",
              "      <th>Q</th>\n",
              "      <td>1.000000</td>\n",
              "      <td>0.000000</td>\n",
              "    </tr>\n",
              "    <tr>\n",
              "      <th>S</th>\n",
              "      <td>0.910448</td>\n",
              "      <td>0.154639</td>\n",
              "    </tr>\n",
              "    <tr>\n",
              "      <th rowspan=\"3\" valign=\"top\">3</th>\n",
              "      <th>C</th>\n",
              "      <td>0.652174</td>\n",
              "      <td>0.232558</td>\n",
              "    </tr>\n",
              "    <tr>\n",
              "      <th>Q</th>\n",
              "      <td>0.727273</td>\n",
              "      <td>0.076923</td>\n",
              "    </tr>\n",
              "    <tr>\n",
              "      <th>S</th>\n",
              "      <td>0.375000</td>\n",
              "      <td>0.128302</td>\n",
              "    </tr>\n",
              "  </tbody>\n",
              "</table>\n",
              "</div>"
            ],
            "text/plain": [
              "Sex                female      male\n",
              "Pclass Embarked                    \n",
              "1      C         0.976744  0.404762\n",
              "       Q         1.000000  0.000000\n",
              "       S         0.958333  0.354430\n",
              "2      C         1.000000  0.200000\n",
              "       Q         1.000000  0.000000\n",
              "       S         0.910448  0.154639\n",
              "3      C         0.652174  0.232558\n",
              "       Q         0.727273  0.076923\n",
              "       S         0.375000  0.128302"
            ]
          },
          "metadata": {
            "tags": []
          },
          "execution_count": 91
        }
      ]
    },
    {
      "cell_type": "markdown",
      "metadata": {
        "id": "GqhrQL4jyWb0"
      },
      "source": [
        "We expose the average for a women in first class may be in the **C** embarked values.\n",
        "\n",
        "So, let's fill in the missing values as \"C\""
      ]
    },
    {
      "cell_type": "code",
      "metadata": {
        "id": "HyBa045NCtjW",
        "colab": {
          "base_uri": "https://localhost:8080/"
        },
        "outputId": "ae7ddd03-6c3b-4f86-aced-873eb0a56074"
      },
      "source": [
        "## Replacing the null values in the Embarked column with the mode. \n",
        "train_df.Embarked.fillna(\"C\", inplace=True)\n",
        "train_df.Embarked.isna().any()"
      ],
      "execution_count": 92,
      "outputs": [
        {
          "output_type": "execute_result",
          "data": {
            "text/plain": [
              "False"
            ]
          },
          "metadata": {
            "tags": []
          },
          "execution_count": 92
        }
      ]
    },
    {
      "cell_type": "markdown",
      "metadata": {
        "id": "NIuzzrMgsxeP"
      },
      "source": [
        "💭Another thing I would like to change is the family connection between these two women.\n",
        "Later in the program I will check the passengers with the same ticket number and attach them in family connection."
      ]
    },
    {
      "cell_type": "markdown",
      "metadata": {
        "id": "CCq2s55yzVbk"
      },
      "source": [
        "### **2b.🟣🟢 Age feature** -missing in the train and the test\n",
        "\n",
        "---\n",
        "\n",
        "\n"
      ]
    },
    {
      "cell_type": "code",
      "metadata": {
        "id": "r9maVh9Yxyn8",
        "colab": {
          "base_uri": "https://localhost:8080/"
        },
        "outputId": "4c4c57dd-34c4-4327-9291-0e74543058f3"
      },
      "source": [
        "def Age_perecent_missing(df):\n",
        "  return str(df.Age.isnull().sum()/len(df.Age)*100)\n",
        "print(\"Train Age missing: \" + Age_perecent_missing(train_df) + \"%\")\n",
        "print(\"Test Age missing: \" + Age_perecent_missing(test_df) + \"%\")"
      ],
      "execution_count": 93,
      "outputs": [
        {
          "output_type": "stream",
          "text": [
            "Train Age missing: 19.865319865319865%\n",
            "Test Age missing: 20.574162679425836%\n"
          ],
          "name": "stdout"
        }
      ]
    },
    {
      "cell_type": "markdown",
      "metadata": {
        "id": "BPL1XlymIysR"
      },
      "source": [
        "We will keep the age column unchanged for now, we will deal with this later."
      ]
    },
    {
      "cell_type": "markdown",
      "metadata": {
        "id": "lFXC069Y7gxK"
      },
      "source": [
        "### **2c.🟣🟢 Cabin feature** - missing in the train  and the test\n",
        "\n",
        "---\n",
        "\n",
        "\n"
      ]
    },
    {
      "cell_type": "code",
      "metadata": {
        "id": "tBj9MQ_c-6zO",
        "colab": {
          "base_uri": "https://localhost:8080/"
        },
        "outputId": "e95118e9-93de-47a1-bfad-4355b80bccc9"
      },
      "source": [
        "def cabin_perecent_missing(df):\n",
        "  return str(df.Cabin.isnull().sum()/len(df.Cabin)*100)\n",
        "print(\"Train Cabin missing: \" + cabin_perecent_missing(train_df) + \"%\")\n",
        "print(\"Test Cabin missing: \" + cabin_perecent_missing(test_df) + \"%\")\n"
      ],
      "execution_count": 94,
      "outputs": [
        {
          "output_type": "stream",
          "text": [
            "Train Cabin missing: 77.10437710437711%\n",
            "Test Cabin missing: 78.22966507177034%\n"
          ],
          "name": "stdout"
        }
      ]
    },
    {
      "cell_type": "markdown",
      "metadata": {
        "id": "23wVmqL_-7Fu"
      },
      "source": [
        "Cabin feature missing 77%  of the training data and 78% of the test data.   \n",
        "A lot of NaN values and also many passengers have multiple cabins.   \n",
        "So this is a useless feature."
      ]
    },
    {
      "cell_type": "code",
      "metadata": {
        "id": "fgyz9g5HBAD8"
      },
      "source": [
        "train_df.drop(['Cabin'],axis=1,inplace=True)\n",
        "test_df.drop(['Cabin'],axis=1,inplace=True)"
      ],
      "execution_count": 95,
      "outputs": []
    },
    {
      "cell_type": "markdown",
      "metadata": {
        "id": "5xoi6--sVore"
      },
      "source": [
        "### **2.d 🟢Fare feature** - missing in the test\n",
        "\n",
        "---\n",
        "\n"
      ]
    },
    {
      "cell_type": "code",
      "metadata": {
        "colab": {
          "base_uri": "https://localhost:8080/"
        },
        "id": "pyK7dQh5G6hq",
        "outputId": "db1a1112-ec60-4973-8e0c-d18f4e979561"
      },
      "source": [
        "def fare_perecent_missing(df):\n",
        "  return str(df.Fare.isnull().sum()/len(df.Fare)*100)\n",
        "print(\"Train Fare missing: \" + fare_perecent_missing(train_df) + \"%\")\n",
        "print(\"Test Fare missing: \" + fare_perecent_missing(test_df) + \"%\")"
      ],
      "execution_count": 96,
      "outputs": [
        {
          "output_type": "stream",
          "text": [
            "Train Fare missing: 0.0%\n",
            "Test Fare missing: 0.23923444976076555%\n"
          ],
          "name": "stdout"
        }
      ]
    },
    {
      "cell_type": "markdown",
      "metadata": {
        "id": "RcgfZsxdIZn9"
      },
      "source": [
        "Fare feature missing 0.24% of the test data.  \n",
        "We will keep the Fare column unchanged for now, we will deal with this later."
      ]
    },
    {
      "cell_type": "markdown",
      "metadata": {
        "id": "e5ZbFqWvwc-y"
      },
      "source": [
        "#3. Visualization and Feature Relations👁\n",
        "\n",
        "---\n",
        "Before we dive into finding relations between independent variables and our dependent variable(survivor), let us create some assumptions about how the relations may turn-out among features.\n",
        "\n",
        "*Assumptions:*\n",
        "\n",
        "*a. Gender*: More female survived than male  \n",
        "*b. Pclass*: Higher socio-economic status passenger survived more than others.    \n",
        "*c.  Fare*: Passenger with higher fare survived more that other passengers. This can be quite correlated with Pclass.     \n",
        "*d.  Age:* Younger passenger survived more than other passengers. \n",
        "*e. SibSp* and Survived\n",
        "\n",
        "Now, let's see how the features are related to each other by creating some visualizations.  \n",
        "\n",
        "\n"
      ]
    },
    {
      "cell_type": "code",
      "metadata": {
        "id": "sUCk8NDB3egR",
        "colab": {
          "base_uri": "https://localhost:8080/",
          "height": 645
        },
        "outputId": "cdc3738d-6d64-4bfa-92a8-741567bd2d27"
      },
      "source": [
        "f,ax=plt.subplots(2,2,figsize=(15,10) )\n",
        "sns.barplot('Sex', 'Survived',data=train_df,ax=ax[0,0])\n",
        "ax[0,0].set_title('Sex vs Survived')\n",
        "\n",
        "sns.barplot('Age', 'Survived',data=train_df,ax=ax[0,1])\n",
        "ax[1,0].set_title('Pclass vs Survived')\n",
        "\n",
        "sns.barplot('Pclass','Survived',data=train_df,ax=ax[1,0])\n",
        "ax[0,1].set_title('Age vs Survived')\n",
        "\n",
        "sns.barplot('Parch','Survived',data=train_df,ax=ax[1,1], )\n",
        "ax[1,1].set_title('Parch vs Survived')\n",
        "\n",
        "plt.subplots_adjust(wspace=0.5,hspace=0.5)\n",
        "plt.show()"
      ],
      "execution_count": 77,
      "outputs": [
        {
          "output_type": "display_data",
          "data": {
            "image/png": "[encoded data removed]",
            "text/plain": [
              "<Figure size 1080x720 with 4 Axes>"
            ]
          },
          "metadata": {
            "tags": [],
            "needs_background": "light"
          }
        }
      ]
    },
    {
      "cell_type": "markdown",
      "metadata": {
        "id": "X-k9_jiWxEXq"
      },
      "source": [
        "##**3a. Gender and Survived**\n",
        "\n",
        "\n",
        "\n",
        "---\n",
        "\n"
      ]
    },
    {
      "cell_type": "code",
      "metadata": {
        "id": "7aGdqIOr2ZAS",
        "colab": {
          "base_uri": "https://localhost:8080/",
          "height": 141
        },
        "outputId": "e47e7ec4-f285-4560-8cfa-44f3c94e90bd"
      },
      "source": [
        "survived_Sex_rate = train_df.groupby(['Sex']).mean()[['Survived']]\n",
        "male_rate = survived_Sex_rate.loc['male']\n",
        "female_rate = survived_Sex_rate.loc['female']\n",
        "display(survived_Sex_rate)"
      ],
      "execution_count": 97,
      "outputs": [
        {
          "output_type": "display_data",
          "data": {
            "text/html": [
              "<div>\n",
              "<style scoped>\n",
              "    .dataframe tbody tr th:only-of-type {\n",
              "        vertical-align: middle;\n",
              "    }\n",
              "\n",
              "    .dataframe tbody tr th {\n",
              "        vertical-align: top;\n",
              "    }\n",
              "\n",
              "    .dataframe thead th {\n",
              "        text-align: right;\n",
              "    }\n",
              "</style>\n",
              "<table border=\"1\" class=\"dataframe\">\n",
              "  <thead>\n",
              "    <tr style=\"text-align: right;\">\n",
              "      <th></th>\n",
              "      <th>Survived</th>\n",
              "    </tr>\n",
              "    <tr>\n",
              "      <th>Sex</th>\n",
              "      <th></th>\n",
              "    </tr>\n",
              "  </thead>\n",
              "  <tbody>\n",
              "    <tr>\n",
              "      <th>female</th>\n",
              "      <td>0.742038</td>\n",
              "    </tr>\n",
              "    <tr>\n",
              "      <th>male</th>\n",
              "      <td>0.188908</td>\n",
              "    </tr>\n",
              "  </tbody>\n",
              "</table>\n",
              "</div>"
            ],
            "text/plain": [
              "        Survived\n",
              "Sex             \n",
              "female  0.742038\n",
              "male    0.188908"
            ]
          },
          "metadata": {
            "tags": []
          }
        }
      ]
    },
    {
      "cell_type": "markdown",
      "metadata": {
        "id": "EQaFVYaGyoYG"
      },
      "source": [
        "We found that 74.2% female passenger survived while only 18.9% male passenger survived."
      ]
    },
    {
      "cell_type": "code",
      "metadata": {
        "id": "mr_FfErwQaC2",
        "colab": {
          "base_uri": "https://localhost:8080/",
          "height": 369
        },
        "outputId": "c8364d76-be5a-44c5-ea60-89f49311c7cc"
      },
      "source": [
        "plt.figure(figsize=(10,5))\n",
        "ax = sns.countplot(x = \"Sex\", hue=\"Survived\", data = train_df, linewidth=8, palette = 'icefire')\n",
        "\n",
        "plt.title(\"Survived vs Not-survived\", fontsize = 20)\n",
        "plt.xlabel(\"Sex\", fontsize = 20);\n",
        "plt.ylabel(\"Number of passenger Boarded\", fontsize = 20)\n",
        "leg = ax.get_legend()\n",
        "plt.axhline(y=len(train_df[(train_df['Sex']=='male') & (train_df['Survived']==1)]))\n",
        "# leg\n",
        "legs = leg.texts\n",
        "legs[0].set_text(\"No\")\n",
        "legs[1].set_text(\"Yes\")\n"
      ],
      "execution_count": 98,
      "outputs": [
        {
          "output_type": "display_data",
          "data": {
            "image/png": "[encoded data removed]",
            "text/plain": [
              "<Figure size 720x360 with 1 Axes>"
            ]
          },
          "metadata": {
            "tags": [],
            "needs_background": "light"
          }
        }
      ]
    },
    {
      "cell_type": "markdown",
      "metadata": {
        "id": "Vd8uUWmHklqL"
      },
      "source": [
        "“Women and children first”  \n",
        "In 1912 the captain explicitly issued an order for women and children to be saved first. As a result, the survival rate for women was three times higher than for men.\n",
        "\n",
        "*Read more:* https://www.newscientist.com/article/dn22119-sinking-the-titanic-women-and-children-first-myth/#ixzz6e2kYYj5E"
      ]
    },
    {
      "cell_type": "markdown",
      "metadata": {
        "id": "3qqB3lGYbgU9"
      },
      "source": [
        "We can see that more men survived than women.  \n",
        "Only 18.9% of the men on board survived, compared to 74.2% of the women.   \n",
        "There were a lot more men on board than women.\n",
        "\n",
        "\n",
        "\n",
        "\n"
      ]
    },
    {
      "cell_type": "markdown",
      "metadata": {
        "id": "Nyr6qEVo5u3X"
      },
      "source": [
        "###**3b. Pclass, embarked and Survived**\n",
        "\n",
        "\n",
        "\n",
        "---\n",
        "\n"
      ]
    },
    {
      "cell_type": "code",
      "metadata": {
        "id": "7EqwV9NnOR4U",
        "colab": {
          "base_uri": "https://localhost:8080/",
          "height": 348
        },
        "outputId": "449e7e2e-5e34-40c3-c793-470874c93c48"
      },
      "source": [
        "f,ax=plt.subplots(1,2,figsize=(12,5))\n",
        "sns.countplot(x='Pclass', hue='Survived',data=train_df,ax=ax[0], palette='GnBu')\n",
        "ax[0].set_title('Pclass vs Survived')\n",
        "sns.countplot(x='Embarked',hue='Survived',data=train_df,ax=ax[1], palette='GnBu')\n",
        "ax[1].set_title('Embarked vs Survived')\n",
        "plt.subplots_adjust(wspace=0.2,hspace=0.5)\n",
        "plt.tight_layout()\n",
        "plt.show()"
      ],
      "execution_count": 99,
      "outputs": [
        {
          "output_type": "display_data",
          "data": {
            "image/png": "[encoded data removed]",
            "text/plain": [
              "<Figure size 864x360 with 2 Axes>"
            ]
          },
          "metadata": {
            "tags": [],
            "needs_background": "light"
          }
        }
      ]
    },
    {
      "cell_type": "code",
      "metadata": {
        "id": "xiIIvxXxPTaz",
        "colab": {
          "base_uri": "https://localhost:8080/",
          "height": 355
        },
        "outputId": "ed45f1af-69d1-4824-9b3d-7bd1b319b5c5"
      },
      "source": [
        "pd.pivot_table(train_df, values='Survived', index=['Pclass', 'Embarked'], columns='Sex')"
      ],
      "execution_count": 100,
      "outputs": [
        {
          "output_type": "execute_result",
          "data": {
            "text/html": [
              "<div>\n",
              "<style scoped>\n",
              "    .dataframe tbody tr th:only-of-type {\n",
              "        vertical-align: middle;\n",
              "    }\n",
              "\n",
              "    .dataframe tbody tr th {\n",
              "        vertical-align: top;\n",
              "    }\n",
              "\n",
              "    .dataframe thead th {\n",
              "        text-align: right;\n",
              "    }\n",
              "</style>\n",
              "<table border=\"1\" class=\"dataframe\">\n",
              "  <thead>\n",
              "    <tr style=\"text-align: right;\">\n",
              "      <th></th>\n",
              "      <th>Sex</th>\n",
              "      <th>female</th>\n",
              "      <th>male</th>\n",
              "    </tr>\n",
              "    <tr>\n",
              "      <th>Pclass</th>\n",
              "      <th>Embarked</th>\n",
              "      <th></th>\n",
              "      <th></th>\n",
              "    </tr>\n",
              "  </thead>\n",
              "  <tbody>\n",
              "    <tr>\n",
              "      <th rowspan=\"3\" valign=\"top\">1</th>\n",
              "      <th>C</th>\n",
              "      <td>0.977778</td>\n",
              "      <td>0.404762</td>\n",
              "    </tr>\n",
              "    <tr>\n",
              "      <th>Q</th>\n",
              "      <td>1.000000</td>\n",
              "      <td>0.000000</td>\n",
              "    </tr>\n",
              "    <tr>\n",
              "      <th>S</th>\n",
              "      <td>0.958333</td>\n",
              "      <td>0.354430</td>\n",
              "    </tr>\n",
              "    <tr>\n",
              "      <th rowspan=\"3\" valign=\"top\">2</th>\n",
              "      <th>C</th>\n",
              "      <td>1.000000</td>\n",
              "      <td>0.200000</td>\n",
              "    </tr>\n",
              "    <tr>\n",
              "      <th>Q</th>\n",
              "      <td>1.000000</td>\n",
              "      <td>0.000000</td>\n",
              "    </tr>\n",
              "    <tr>\n",
              "      <th>S</th>\n",
              "      <td>0.910448</td>\n",
              "      <td>0.154639</td>\n",
              "    </tr>\n",
              "    <tr>\n",
              "      <th rowspan=\"3\" valign=\"top\">3</th>\n",
              "      <th>C</th>\n",
              "      <td>0.652174</td>\n",
              "      <td>0.232558</td>\n",
              "    </tr>\n",
              "    <tr>\n",
              "      <th>Q</th>\n",
              "      <td>0.727273</td>\n",
              "      <td>0.076923</td>\n",
              "    </tr>\n",
              "    <tr>\n",
              "      <th>S</th>\n",
              "      <td>0.375000</td>\n",
              "      <td>0.128302</td>\n",
              "    </tr>\n",
              "  </tbody>\n",
              "</table>\n",
              "</div>"
            ],
            "text/plain": [
              "Sex                female      male\n",
              "Pclass Embarked                    \n",
              "1      C         0.977778  0.404762\n",
              "       Q         1.000000  0.000000\n",
              "       S         0.958333  0.354430\n",
              "2      C         1.000000  0.200000\n",
              "       Q         1.000000  0.000000\n",
              "       S         0.910448  0.154639\n",
              "3      C         0.652174  0.232558\n",
              "       Q         0.727273  0.076923\n",
              "       S         0.375000  0.128302"
            ]
          },
          "metadata": {
            "tags": []
          },
          "execution_count": 100
        }
      ]
    },
    {
      "cell_type": "markdown",
      "metadata": {
        "id": "kRPYFcjj0Hdj"
      },
      "source": [
        "**Conclusions**:  \n",
        "~Barely male from embarked **Q** survived  \n",
        "~More **female** survived than male  \n",
        "~The highest percentage of survivors were female from **class 1 and class 2**\n"
      ]
    },
    {
      "cell_type": "code",
      "metadata": {
        "id": "H7jYGiq2wdVY",
        "colab": {
          "base_uri": "https://localhost:8080/",
          "height": 389
        },
        "outputId": "af82bfbf-82eb-43d1-f2ae-a00ec0085461"
      },
      "source": [
        "sns.lmplot(x=\"Pclass\", y=\"Survived\", data=train_df, order=2)\n",
        "plt.ylabel('Survived')\n",
        "plt.xlabel('Pclass')\n",
        "plt.title('All survivors without gender distinction vs  Pclass', fontsize = 15)\n",
        "plt.show()"
      ],
      "execution_count": 101,
      "outputs": [
        {
          "output_type": "display_data",
          "data": {
            "image/png": "[encoded data removed]",
            "text/plain": [
              "<Figure size 360x360 with 1 Axes>"
            ]
          },
          "metadata": {
            "tags": [],
            "needs_background": "light"
          }
        }
      ]
    },
    {
      "cell_type": "markdown",
      "metadata": {
        "id": "wla2ccze9GZB"
      },
      "source": [
        "*Negative correlation*  \n",
        "The plot shows that passengers from the first-class have a higher survival rate more than passengers from other classes. The first class passengers had the upper hand during the tragedy."
      ]
    },
    {
      "cell_type": "markdown",
      "metadata": {
        "id": "LlcXJo3b6eU3"
      },
      "source": [
        "###**3c. Fare and Survived**\n",
        "\n",
        "\n",
        "\n",
        "---\n",
        "\n"
      ]
    },
    {
      "cell_type": "code",
      "metadata": {
        "id": "lPh5ALdl6djR",
        "colab": {
          "base_uri": "https://localhost:8080/",
          "height": 389
        },
        "outputId": "d33dd887-9bf3-4374-b368-44bb72478704"
      },
      "source": [
        "sns.lmplot(x=\"Fare\", y=\"Survived\", data=train_df, order=1)\n",
        "plt.ylabel('Survived')\n",
        "plt.xlabel('Fare')\n",
        "plt.title('Survivors vs  Pclass', fontsize = 15)\n",
        "plt.show()"
      ],
      "execution_count": 102,
      "outputs": [
        {
          "output_type": "display_data",
          "data": {
            "image/png": "[encoded data removed]",
            "text/plain": [
              "<Figure size 360x360 with 1 Axes>"
            ]
          },
          "metadata": {
            "tags": [],
            "needs_background": "light"
          }
        }
      ]
    },
    {
      "cell_type": "markdown",
      "metadata": {
        "id": "l_zdtcjPHyOp"
      },
      "source": [
        "*Positive correlation*  \n",
        "Assuming that for a better class the passengers paid more.  \n",
        "And as I said before the first class passengers had the upper hand during the tragedy."
      ]
    },
    {
      "cell_type": "code",
      "metadata": {
        "id": "pHjOmFazJQ-Y",
        "colab": {
          "base_uri": "https://localhost:8080/",
          "height": 473
        },
        "outputId": "136b5740-2647-4b7d-989f-2c4d41c86a5f"
      },
      "source": [
        "fig = plt.figure(figsize=(13,6))\n",
        "ax=sns.kdeplot(train_df.loc[(train_df['Survived'] == 0),'Fare'] , color='r',shade=True,label='not survived')\n",
        "ax=sns.kdeplot(train_df.loc[(train_df['Survived'] == 1),'Fare'] , color='b',shade=True, label='survived')\n",
        "plt.title('Fare Distribution Survived vs Non Survived', fontsize = 25, pad = 40)\n",
        "plt.ylabel(\"Frequency of Passenger Survived\", fontsize = 15, labelpad = 20)\n",
        "plt.xlabel(\"Fare\", fontsize = 15, labelpad = 20)\n",
        "plt.show()"
      ],
      "execution_count": 103,
      "outputs": [
        {
          "output_type": "display_data",
          "data": {
            "image/png": "[encoded data removed]",
            "text/plain": [
              "<Figure size 936x432 with 1 Axes>"
            ]
          },
          "metadata": {
            "tags": [],
            "needs_background": "light"
          }
        }
      ]
    },
    {
      "cell_type": "code",
      "metadata": {
        "id": "qvLN4tPkV3Hp"
      },
      "source": [
        "def convert_fare(df):\n",
        "  df['Fare_band']=0\n",
        "  df.loc[df['Fare']<=7.775,'Fare_band']=0\n",
        "  df.loc[(df['Fare']>7.775)&(df['Fare']<=8.662),'Fare_band']=1\n",
        "  df.loc[(df['Fare']>8.662)&(df['Fare']<=14.454),'Fare_band']=2\n",
        "  df.loc[(df['Fare']>14.454)&(df['Fare']<=26.0),'Fare_band']=3\n",
        "  df.loc[(df['Fare']>26.0)&(df['Fare']<=52.369),'Fare_band']=4\n",
        "  df.loc[df['Fare']>52.369,'Fare_band']=5\n",
        "\n",
        "convert_fare(train_df)\n",
        "convert_fare(test_df)\n",
        "\n",
        "train_df.drop(['Fare'], axis=1, inplace=True)\n",
        "test_df.drop(['Fare'], axis=1, inplace=True)"
      ],
      "execution_count": 104,
      "outputs": []
    },
    {
      "cell_type": "markdown",
      "metadata": {
        "id": "rKmi5AD2MeTo"
      },
      "source": [
        "The spike in the plot under 100$ , the red shade represents that a lot of passengers who bought the ticket within that range did not survive."
      ]
    },
    {
      "cell_type": "markdown",
      "metadata": {
        "id": "J1Op4Nko0SXO"
      },
      "source": [
        "###**3d. Age and Survived**\n",
        "\n",
        "\n",
        "\n",
        "---\n",
        "\n"
      ]
    },
    {
      "cell_type": "code",
      "metadata": {
        "id": "I6oJynEs1-5d",
        "colab": {
          "base_uri": "https://localhost:8080/",
          "height": 389
        },
        "outputId": "a05dd8a2-91c9-4171-e058-9240257ac1f4"
      },
      "source": [
        "sns.lmplot(x=\"Age\", y=\"Survived\", data=train_df, order=1)\n",
        "plt.ylabel('Survived')\n",
        "plt.xlabel('Age')\n",
        "plt.title('Survivors vs  Age', fontsize = 15)\n",
        "plt.show()"
      ],
      "execution_count": 105,
      "outputs": [
        {
          "output_type": "display_data",
          "data": {
            "image/png": "[encoded data removed]",
            "text/plain": [
              "<Figure size 360x360 with 1 Axes>"
            ]
          },
          "metadata": {
            "tags": [],
            "needs_background": "light"
          }
        }
      ]
    },
    {
      "cell_type": "code",
      "metadata": {
        "id": "TGJ62R1gBZbq",
        "colab": {
          "base_uri": "https://localhost:8080/"
        },
        "outputId": "d02be637-2bcc-4232-92b9-4563c74d66f9"
      },
      "source": [
        "test_df.isna().any()"
      ],
      "execution_count": 106,
      "outputs": [
        {
          "output_type": "execute_result",
          "data": {
            "text/plain": [
              "PassengerId    False\n",
              "Pclass         False\n",
              "Name           False\n",
              "Sex            False\n",
              "Age             True\n",
              "SibSp          False\n",
              "Parch          False\n",
              "Ticket         False\n",
              "Embarked       False\n",
              "Fare_band      False\n",
              "dtype: bool"
            ]
          },
          "metadata": {
            "tags": []
          },
          "execution_count": 106
        }
      ]
    },
    {
      "cell_type": "markdown",
      "metadata": {
        "id": "BTBQPmmdOayh"
      },
      "source": [
        "*Negative correlation*  \n",
        "Young passengers survived more than the older passengers."
      ]
    },
    {
      "cell_type": "code",
      "metadata": {
        "id": "aZB0CQHEE8f4",
        "colab": {
          "base_uri": "https://localhost:8080/",
          "height": 314
        },
        "outputId": "d551548d-8997-4370-c018-f33409f5cff4"
      },
      "source": [
        "plt.figure(figsize=(27,6))\n",
        "sns.barplot(train_df['Age'],train_df['Survived'], ci=None,  palette=\"Blues_d\")\n",
        "plt.xticks(rotation=90)\n",
        "plt.show()"
      ],
      "execution_count": 107,
      "outputs": [
        {
          "output_type": "display_data",
          "data": {
            "image/png": "[encoded data removed]",
            "text/plain": [
              "<Figure size 1944x432 with 1 Axes>"
            ]
          },
          "metadata": {
            "tags": [],
            "needs_background": "light"
          }
        }
      ]
    },
    {
      "cell_type": "code",
      "metadata": {
        "id": "JCC84UOkUWqh"
      },
      "source": [
        ""
      ],
      "execution_count": 107,
      "outputs": []
    },
    {
      "cell_type": "markdown",
      "metadata": {
        "id": "lsps7sNEICSY"
      },
      "source": [
        "# With a little bit of creativity, we can say that the plot has 3 regions:\n",
        "\n",
        "~*Child*  - between age 0 to 15    \n",
        "~*Adult*  - between age 15 to 48     \n",
        "~*Elder*  - between age 48 to 80    \n",
        "  \n",
        "  \n",
        "  \n"
      ]
    },
    {
      "cell_type": "markdown",
      "metadata": {
        "id": "-aq5ZdX1YJcY"
      },
      "source": [
        "You don't have to imagine, I'll help see that.."
      ]
    },
    {
      "cell_type": "code",
      "metadata": {
        "id": "BBbzP51FIeFG",
        "colab": {
          "base_uri": "https://localhost:8080/",
          "height": 333
        },
        "outputId": "668e7ccf-387b-4001-ad3f-bf791a1a8921"
      },
      "source": [
        "limit_1 = 15\n",
        "limit_2 = 48\n",
        "x_limit_1 = np.size(train_df[train_df['Age'] < limit_1]['Age'].unique())\n",
        "x_limit_2 = np.size(train_df[train_df['Age'] < limit_2]['Age'].unique())\n",
        "\n",
        "plt.figure(figsize=(27,6))\n",
        "sns.barplot(train_df['Age'],train_df['Survived'], ci=None,  palette=\"Blues_d\")\n",
        "plt.axvspan(-1, x_limit_1, alpha=0.25, color='blue')\n",
        "plt.axvspan(x_limit_1, x_limit_2, alpha=0.25, color='red')\n",
        "plt.axvspan(x_limit_2, 100, alpha=0.25, color='green')\n",
        "plt.title('Distribution by age groups')\n",
        "plt.xticks(rotation=90)\n",
        "plt.show()"
      ],
      "execution_count": 108,
      "outputs": [
        {
          "output_type": "display_data",
          "data": {
            "image/png": "[encoded data removed]",
            "text/plain": [
              "<Figure size 1944x432 with 1 Axes>"
            ]
          },
          "metadata": {
            "tags": [],
            "needs_background": "light"
          }
        }
      ]
    },
    {
      "cell_type": "markdown",
      "metadata": {
        "id": "F8tKSW6hLzy_"
      },
      "source": [
        "The new groups we divided:"
      ]
    },
    {
      "cell_type": "code",
      "metadata": {
        "id": "re6OhJl9JjXK",
        "colab": {
          "base_uri": "https://localhost:8080/",
          "height": 348
        },
        "outputId": "5b95ad7a-e27c-45c2-c880-b41d69634910"
      },
      "source": [
        "\n",
        "train_df['Age'] = pd.cut(train_df['Age'], bins=[0, 15, 48, 200], labels=['Child','Adult','Elder'])\n",
        "train_df['Age'].head()\n",
        "plt.figure(figsize=(10,5))\n",
        "sns.barplot(train_df['Age'], train_df['Survived']);\n"
      ],
      "execution_count": 109,
      "outputs": [
        {
          "output_type": "display_data",
          "data": {
            "image/png": "[encoded data removed]",
            "text/plain": [
              "<Figure size 720x360 with 1 Axes>"
            ]
          },
          "metadata": {
            "tags": [],
            "needs_background": "light"
          }
        }
      ]
    },
    {
      "cell_type": "code",
      "metadata": {
        "id": "GS-CMbYSTL_v"
      },
      "source": [
        "test_df['Age'] = pd.cut(test_df['Age'], bins=[0, 15, 48, 200], labels=['Child','Adult','Elder'])\n"
      ],
      "execution_count": 110,
      "outputs": []
    },
    {
      "cell_type": "markdown",
      "metadata": {
        "id": "rOodFpcrk9k1"
      },
      "source": [
        "The plot shows that children have a higher survival rate.   \n",
        "This may hint on the posibility that children and infants were the priority.  \n",
        "We don't see a significant difference between the categories 'Adult' and 'Elder'."
      ]
    },
    {
      "cell_type": "markdown",
      "metadata": {
        "id": "6AEpnyKJNWdM"
      },
      "source": [
        "###**3e. SibSp and Survived**\n",
        "\n",
        "\n",
        "\n",
        "---\n",
        "\n"
      ]
    },
    {
      "cell_type": "code",
      "metadata": {
        "id": "2S6QYzM4DpQi",
        "colab": {
          "base_uri": "https://localhost:8080/",
          "height": 389
        },
        "outputId": "94a19847-6662-44c5-a48c-0ea913112c21"
      },
      "source": [
        "sns.lmplot(x=\"SibSp\", y=\"Survived\", data=train_df, order=1)\n",
        "plt.ylabel('Survived')\n",
        "plt.xlabel('SibSp')\n",
        "plt.title('Survivors vs SibSp', fontsize = 15)\n",
        "plt.show()"
      ],
      "execution_count": 111,
      "outputs": [
        {
          "output_type": "display_data",
          "data": {
            "image/png": "[encoded data removed]",
            "text/plain": [
              "<Figure size 360x360 with 1 Axes>"
            ]
          },
          "metadata": {
            "tags": [],
            "needs_background": "light"
          }
        }
      ]
    },
    {
      "cell_type": "markdown",
      "metadata": {
        "id": "CkYu8UsdPAAi"
      },
      "source": [
        "*Negative correlation*  \n",
        "People who came with relatives survived less.\n"
      ]
    },
    {
      "cell_type": "code",
      "metadata": {
        "id": "wEVCxTuDEaky",
        "colab": {
          "base_uri": "https://localhost:8080/",
          "height": 525
        },
        "outputId": "f43db98e-f61d-4b47-a4cf-48fb191b15be"
      },
      "source": [
        "f,ax=plt.subplots(1,2,figsize=(20,8))\n",
        "plt.rcParams[\"font.size\"] = 20\n",
        "sns.barplot('SibSp','Survived',data=train_df,ax=ax[0])\n",
        "ax[0].set_title('SibSp vs Survived')\n",
        "sns.barplot('Parch','Survived',data=train_df,ax=ax[1])\n",
        "ax[1].set_title('Parch vs Survived')\n",
        "plt.close(2)\n",
        "plt.show()"
      ],
      "execution_count": 112,
      "outputs": [
        {
          "output_type": "display_data",
          "data": {
            "image/png": "[encoded data removed]",
            "text/plain": [
              "<Figure size 1440x576 with 2 Axes>"
            ]
          },
          "metadata": {
            "tags": [],
            "needs_background": "light"
          }
        }
      ]
    },
    {
      "cell_type": "markdown",
      "metadata": {
        "id": "h0nW0xJhE9ue"
      },
      "source": [
        "Survival rate was higher for Parch&SibSp 1 to 3 and was very low for Parch 4 to 6.\n",
        "Mayby the resason is responsibility for more people.\n",
        "\n"
      ]
    },
    {
      "cell_type": "markdown",
      "metadata": {
        "id": "o5D42p5PN7eb"
      },
      "source": [
        "There is one point I would like to make clear from another position.\n",
        "We can see that passengers who were alone had less chance of survival. Mayby the resason for this is that no one along with them to help them out."
      ]
    },
    {
      "cell_type": "markdown",
      "metadata": {
        "id": "Q2-N49IPlx5T"
      },
      "source": [
        "#4. Correlation between feature in a Heatmap🔥\n",
        "\n",
        "---\n",
        "\n",
        "\n"
      ]
    },
    {
      "cell_type": "code",
      "metadata": {
        "id": "hO8wpO_WFJ2S",
        "colab": {
          "base_uri": "https://localhost:8080/",
          "height": 604
        },
        "outputId": "760f32ae-53d9-4bf0-c852-c25f5f43898d"
      },
      "source": [
        "plt.figure(figsize=(20,10))\n",
        "cor = np.abs(train_df.corr())\n",
        "train_df.corr()\n",
        "sns.heatmap(cor, annot=True, cmap = plt.cm.GnBu, vmin=0, vmax=1)\n",
        "plt.show()"
      ],
      "execution_count": 113,
      "outputs": [
        {
          "output_type": "display_data",
          "data": {
            "image/png": "[encoded data removed]",
            "text/plain": [
              "<Figure size 1440x720 with 2 Axes>"
            ]
          },
          "metadata": {
            "tags": [],
            "needs_background": "light"
          }
        }
      ]
    },
    {
      "cell_type": "markdown",
      "metadata": {
        "id": "MGzI32DH2bx-"
      },
      "source": [
        "Absolute Correlation Features:  \n",
        "~Fare_band and Pclass: |0.69|   \n",
        "~Parch and SibSp: |0.41| \n",
        "~Fare_band and SibSp: |0.36|  \n",
        "~Fare_band and Parch: |0.36|    \n",
        "~Pclass and Survived: |0.34|     \n",
        "~Fare and Survived: |0.32|    \n"
      ]
    },
    {
      "cell_type": "markdown",
      "metadata": {
        "id": "TAKfU25-ayo4"
      },
      "source": [
        "\n",
        "#5. Classification\n",
        "\n",
        "---\n",
        "\n"
      ]
    },
    {
      "cell_type": "code",
      "metadata": {
        "id": "C7yADRq9solp"
      },
      "source": [
        "train_df['Sex'].replace(['male','female'],[0,1],inplace=True)\n",
        "train_df['Embarked'].replace(['C','S', 'Q'],[0,1,2],inplace=True)\n",
        "train_df['Age'].replace([np.NaN,'Child','Adult', 'Elder'],[0, 1, 2, 3],inplace=True)"
      ],
      "execution_count": 114,
      "outputs": []
    },
    {
      "cell_type": "code",
      "metadata": {
        "id": "SKc_uHnWRhhF"
      },
      "source": [
        "test_df['Sex'].replace(['male','female'],[0,1],inplace=True)\n",
        "test_df['Embarked'].replace(['C','S', 'Q'],[0,1,2],inplace=True)\n",
        "test_df['Age'].replace([np.NaN,'Child','Adult', 'Elder'],[0,1, 2, 3],inplace=True)"
      ],
      "execution_count": 115,
      "outputs": []
    },
    {
      "cell_type": "code",
      "metadata": {
        "id": "zqAkCagiS6BW",
        "colab": {
          "base_uri": "https://localhost:8080/"
        },
        "outputId": "9678f276-b06e-43a2-f3bd-12c299fa4c55"
      },
      "source": [
        "train_df.isna().any()"
      ],
      "execution_count": 116,
      "outputs": [
        {
          "output_type": "execute_result",
          "data": {
            "text/plain": [
              "PassengerId    False\n",
              "Survived       False\n",
              "Pclass         False\n",
              "Name           False\n",
              "Sex            False\n",
              "Age            False\n",
              "SibSp          False\n",
              "Parch          False\n",
              "Ticket         False\n",
              "Embarked       False\n",
              "Fare_band      False\n",
              "dtype: bool"
            ]
          },
          "metadata": {
            "tags": []
          },
          "execution_count": 116
        }
      ]
    },
    {
      "cell_type": "code",
      "metadata": {
        "colab": {
          "base_uri": "https://localhost:8080/"
        },
        "id": "JhCOUuMKR2VT",
        "outputId": "6f8cf2a2-704f-4f18-d278-ee40e803de8c"
      },
      "source": [
        "test_df.isna().any()"
      ],
      "execution_count": 117,
      "outputs": [
        {
          "output_type": "execute_result",
          "data": {
            "text/plain": [
              "PassengerId    False\n",
              "Pclass         False\n",
              "Name           False\n",
              "Sex            False\n",
              "Age            False\n",
              "SibSp          False\n",
              "Parch          False\n",
              "Ticket         False\n",
              "Embarked       False\n",
              "Fare_band      False\n",
              "dtype: bool"
            ]
          },
          "metadata": {
            "tags": []
          },
          "execution_count": 117
        }
      ]
    },
    {
      "cell_type": "code",
      "metadata": {
        "id": "EasKdbPTHW47"
      },
      "source": [
        "train_df.drop(['Ticket', 'Name'] ,axis=1, inplace=True)\n",
        "test_df.drop(['Ticket', 'Name'] ,axis=1, inplace=True)"
      ],
      "execution_count": 118,
      "outputs": []
    },
    {
      "cell_type": "code",
      "metadata": {
        "id": "9bGMhYfcFTm9",
        "colab": {
          "base_uri": "https://localhost:8080/",
          "height": 675
        },
        "outputId": "ddf231d7-995a-4768-dc2a-c10024c0a673"
      },
      "source": [
        "# detach the target values from the input data\n",
        "t = train_df['Survived']\n",
        "X = train_df.drop('Survived', axis=1)\n",
        "print('X')\n",
        "display(X)\n",
        "print()\n",
        "print('t')\n",
        "display(t)"
      ],
      "execution_count": 119,
      "outputs": [
        {
          "output_type": "stream",
          "text": [
            "X\n"
          ],
          "name": "stdout"
        },
        {
          "output_type": "display_data",
          "data": {
            "text/html": [
              "<div>\n",
              "<style scoped>\n",
              "    .dataframe tbody tr th:only-of-type {\n",
              "        vertical-align: middle;\n",
              "    }\n",
              "\n",
              "    .dataframe tbody tr th {\n",
              "        vertical-align: top;\n",
              "    }\n",
              "\n",
              "    .dataframe thead th {\n",
              "        text-align: right;\n",
              "    }\n",
              "</style>\n",
              "<table border=\"1\" class=\"dataframe\">\n",
              "  <thead>\n",
              "    <tr style=\"text-align: right;\">\n",
              "      <th></th>\n",
              "      <th>PassengerId</th>\n",
              "      <th>Pclass</th>\n",
              "      <th>Sex</th>\n",
              "      <th>Age</th>\n",
              "      <th>SibSp</th>\n",
              "      <th>Parch</th>\n",
              "      <th>Embarked</th>\n",
              "      <th>Fare_band</th>\n",
              "    </tr>\n",
              "  </thead>\n",
              "  <tbody>\n",
              "    <tr>\n",
              "      <th>0</th>\n",
              "      <td>1</td>\n",
              "      <td>3</td>\n",
              "      <td>0</td>\n",
              "      <td>2</td>\n",
              "      <td>1</td>\n",
              "      <td>0</td>\n",
              "      <td>1</td>\n",
              "      <td>0</td>\n",
              "    </tr>\n",
              "    <tr>\n",
              "      <th>1</th>\n",
              "      <td>2</td>\n",
              "      <td>1</td>\n",
              "      <td>1</td>\n",
              "      <td>2</td>\n",
              "      <td>1</td>\n",
              "      <td>0</td>\n",
              "      <td>0</td>\n",
              "      <td>5</td>\n",
              "    </tr>\n",
              "    <tr>\n",
              "      <th>2</th>\n",
              "      <td>3</td>\n",
              "      <td>3</td>\n",
              "      <td>1</td>\n",
              "      <td>2</td>\n",
              "      <td>0</td>\n",
              "      <td>0</td>\n",
              "      <td>1</td>\n",
              "      <td>1</td>\n",
              "    </tr>\n",
              "    <tr>\n",
              "      <th>3</th>\n",
              "      <td>4</td>\n",
              "      <td>1</td>\n",
              "      <td>1</td>\n",
              "      <td>2</td>\n",
              "      <td>1</td>\n",
              "      <td>0</td>\n",
              "      <td>1</td>\n",
              "      <td>5</td>\n",
              "    </tr>\n",
              "    <tr>\n",
              "      <th>4</th>\n",
              "      <td>5</td>\n",
              "      <td>3</td>\n",
              "      <td>0</td>\n",
              "      <td>2</td>\n",
              "      <td>0</td>\n",
              "      <td>0</td>\n",
              "      <td>1</td>\n",
              "      <td>1</td>\n",
              "    </tr>\n",
              "    <tr>\n",
              "      <th>...</th>\n",
              "      <td>...</td>\n",
              "      <td>...</td>\n",
              "      <td>...</td>\n",
              "      <td>...</td>\n",
              "      <td>...</td>\n",
              "      <td>...</td>\n",
              "      <td>...</td>\n",
              "      <td>...</td>\n",
              "    </tr>\n",
              "    <tr>\n",
              "      <th>886</th>\n",
              "      <td>887</td>\n",
              "      <td>2</td>\n",
              "      <td>0</td>\n",
              "      <td>2</td>\n",
              "      <td>0</td>\n",
              "      <td>0</td>\n",
              "      <td>1</td>\n",
              "      <td>2</td>\n",
              "    </tr>\n",
              "    <tr>\n",
              "      <th>887</th>\n",
              "      <td>888</td>\n",
              "      <td>1</td>\n",
              "      <td>1</td>\n",
              "      <td>2</td>\n",
              "      <td>0</td>\n",
              "      <td>0</td>\n",
              "      <td>1</td>\n",
              "      <td>4</td>\n",
              "    </tr>\n",
              "    <tr>\n",
              "      <th>888</th>\n",
              "      <td>889</td>\n",
              "      <td>3</td>\n",
              "      <td>1</td>\n",
              "      <td>0</td>\n",
              "      <td>1</td>\n",
              "      <td>2</td>\n",
              "      <td>1</td>\n",
              "      <td>3</td>\n",
              "    </tr>\n",
              "    <tr>\n",
              "      <th>889</th>\n",
              "      <td>890</td>\n",
              "      <td>1</td>\n",
              "      <td>0</td>\n",
              "      <td>2</td>\n",
              "      <td>0</td>\n",
              "      <td>0</td>\n",
              "      <td>0</td>\n",
              "      <td>4</td>\n",
              "    </tr>\n",
              "    <tr>\n",
              "      <th>890</th>\n",
              "      <td>891</td>\n",
              "      <td>3</td>\n",
              "      <td>0</td>\n",
              "      <td>2</td>\n",
              "      <td>0</td>\n",
              "      <td>0</td>\n",
              "      <td>2</td>\n",
              "      <td>0</td>\n",
              "    </tr>\n",
              "  </tbody>\n",
              "</table>\n",
              "<p>891 rows × 8 columns</p>\n",
              "</div>"
            ],
            "text/plain": [
              "     PassengerId  Pclass  Sex  Age  SibSp  Parch  Embarked  Fare_band\n",
              "0              1       3    0    2      1      0         1          0\n",
              "1              2       1    1    2      1      0         0          5\n",
              "2              3       3    1    2      0      0         1          1\n",
              "3              4       1    1    2      1      0         1          5\n",
              "4              5       3    0    2      0      0         1          1\n",
              "..           ...     ...  ...  ...    ...    ...       ...        ...\n",
              "886          887       2    0    2      0      0         1          2\n",
              "887          888       1    1    2      0      0         1          4\n",
              "888          889       3    1    0      1      2         1          3\n",
              "889          890       1    0    2      0      0         0          4\n",
              "890          891       3    0    2      0      0         2          0\n",
              "\n",
              "[891 rows x 8 columns]"
            ]
          },
          "metadata": {
            "tags": []
          }
        },
        {
          "output_type": "stream",
          "text": [
            "\n",
            "t\n"
          ],
          "name": "stdout"
        },
        {
          "output_type": "display_data",
          "data": {
            "text/plain": [
              "0      0\n",
              "1      1\n",
              "2      1\n",
              "3      1\n",
              "4      0\n",
              "      ..\n",
              "886    0\n",
              "887    1\n",
              "888    0\n",
              "889    1\n",
              "890    0\n",
              "Name: Survived, Length: 891, dtype: int64"
            ]
          },
          "metadata": {
            "tags": []
          }
        }
      ]
    },
    {
      "cell_type": "markdown",
      "metadata": {
        "id": "XV4SGLyLZsIO"
      },
      "source": [
        "Split the data to 80% train and 20% test"
      ]
    },
    {
      "cell_type": "code",
      "metadata": {
        "id": "QHPHouCmImb3",
        "colab": {
          "base_uri": "https://localhost:8080/",
          "height": 1000
        },
        "outputId": "038f83f5-1398-4545-fbd9-5b0cabdb013c"
      },
      "source": [
        "from sklearn import model_selection\n",
        "X_train, X_val, t_train, t_val = model_selection.train_test_split(X, t, test_size=0.2, random_state=2)\n",
        "print('X_train')\n",
        "display(X_train)\n",
        "print()\n",
        "print('t_train')\n",
        "display(t_train)\n",
        "print()\n",
        "print('X_val')\n",
        "display(X_val)\n",
        "print()\n",
        "print('t_val')\n",
        "display(t_val)"
      ],
      "execution_count": 120,
      "outputs": [
        {
          "output_type": "stream",
          "text": [
            "X_train\n"
          ],
          "name": "stdout"
        },
        {
          "output_type": "display_data",
          "data": {
            "text/html": [
              "<div>\n",
              "<style scoped>\n",
              "    .dataframe tbody tr th:only-of-type {\n",
              "        vertical-align: middle;\n",
              "    }\n",
              "\n",
              "    .dataframe tbody tr th {\n",
              "        vertical-align: top;\n",
              "    }\n",
              "\n",
              "    .dataframe thead th {\n",
              "        text-align: right;\n",
              "    }\n",
              "</style>\n",
              "<table border=\"1\" class=\"dataframe\">\n",
              "  <thead>\n",
              "    <tr style=\"text-align: right;\">\n",
              "      <th></th>\n",
              "      <th>PassengerId</th>\n",
              "      <th>Pclass</th>\n",
              "      <th>Sex</th>\n",
              "      <th>Age</th>\n",
              "      <th>SibSp</th>\n",
              "      <th>Parch</th>\n",
              "      <th>Embarked</th>\n",
              "      <th>Fare_band</th>\n",
              "    </tr>\n",
              "  </thead>\n",
              "  <tbody>\n",
              "    <tr>\n",
              "      <th>30</th>\n",
              "      <td>31</td>\n",
              "      <td>1</td>\n",
              "      <td>0</td>\n",
              "      <td>2</td>\n",
              "      <td>0</td>\n",
              "      <td>0</td>\n",
              "      <td>0</td>\n",
              "      <td>4</td>\n",
              "    </tr>\n",
              "    <tr>\n",
              "      <th>10</th>\n",
              "      <td>11</td>\n",
              "      <td>3</td>\n",
              "      <td>1</td>\n",
              "      <td>1</td>\n",
              "      <td>1</td>\n",
              "      <td>1</td>\n",
              "      <td>1</td>\n",
              "      <td>3</td>\n",
              "    </tr>\n",
              "    <tr>\n",
              "      <th>873</th>\n",
              "      <td>874</td>\n",
              "      <td>3</td>\n",
              "      <td>0</td>\n",
              "      <td>2</td>\n",
              "      <td>0</td>\n",
              "      <td>0</td>\n",
              "      <td>1</td>\n",
              "      <td>2</td>\n",
              "    </tr>\n",
              "    <tr>\n",
              "      <th>182</th>\n",
              "      <td>183</td>\n",
              "      <td>3</td>\n",
              "      <td>0</td>\n",
              "      <td>1</td>\n",
              "      <td>4</td>\n",
              "      <td>2</td>\n",
              "      <td>1</td>\n",
              "      <td>4</td>\n",
              "    </tr>\n",
              "    <tr>\n",
              "      <th>876</th>\n",
              "      <td>877</td>\n",
              "      <td>3</td>\n",
              "      <td>0</td>\n",
              "      <td>2</td>\n",
              "      <td>0</td>\n",
              "      <td>0</td>\n",
              "      <td>1</td>\n",
              "      <td>2</td>\n",
              "    </tr>\n",
              "    <tr>\n",
              "      <th>...</th>\n",
              "      <td>...</td>\n",
              "      <td>...</td>\n",
              "      <td>...</td>\n",
              "      <td>...</td>\n",
              "      <td>...</td>\n",
              "      <td>...</td>\n",
              "      <td>...</td>\n",
              "      <td>...</td>\n",
              "    </tr>\n",
              "    <tr>\n",
              "      <th>534</th>\n",
              "      <td>535</td>\n",
              "      <td>3</td>\n",
              "      <td>1</td>\n",
              "      <td>2</td>\n",
              "      <td>0</td>\n",
              "      <td>0</td>\n",
              "      <td>1</td>\n",
              "      <td>2</td>\n",
              "    </tr>\n",
              "    <tr>\n",
              "      <th>584</th>\n",
              "      <td>585</td>\n",
              "      <td>3</td>\n",
              "      <td>0</td>\n",
              "      <td>0</td>\n",
              "      <td>0</td>\n",
              "      <td>0</td>\n",
              "      <td>0</td>\n",
              "      <td>2</td>\n",
              "    </tr>\n",
              "    <tr>\n",
              "      <th>493</th>\n",
              "      <td>494</td>\n",
              "      <td>1</td>\n",
              "      <td>0</td>\n",
              "      <td>3</td>\n",
              "      <td>0</td>\n",
              "      <td>0</td>\n",
              "      <td>0</td>\n",
              "      <td>4</td>\n",
              "    </tr>\n",
              "    <tr>\n",
              "      <th>527</th>\n",
              "      <td>528</td>\n",
              "      <td>1</td>\n",
              "      <td>0</td>\n",
              "      <td>0</td>\n",
              "      <td>0</td>\n",
              "      <td>0</td>\n",
              "      <td>1</td>\n",
              "      <td>5</td>\n",
              "    </tr>\n",
              "    <tr>\n",
              "      <th>168</th>\n",
              "      <td>169</td>\n",
              "      <td>1</td>\n",
              "      <td>0</td>\n",
              "      <td>0</td>\n",
              "      <td>0</td>\n",
              "      <td>0</td>\n",
              "      <td>1</td>\n",
              "      <td>3</td>\n",
              "    </tr>\n",
              "  </tbody>\n",
              "</table>\n",
              "<p>712 rows × 8 columns</p>\n",
              "</div>"
            ],
            "text/plain": [
              "     PassengerId  Pclass  Sex  Age  SibSp  Parch  Embarked  Fare_band\n",
              "30            31       1    0    2      0      0         0          4\n",
              "10            11       3    1    1      1      1         1          3\n",
              "873          874       3    0    2      0      0         1          2\n",
              "182          183       3    0    1      4      2         1          4\n",
              "876          877       3    0    2      0      0         1          2\n",
              "..           ...     ...  ...  ...    ...    ...       ...        ...\n",
              "534          535       3    1    2      0      0         1          2\n",
              "584          585       3    0    0      0      0         0          2\n",
              "493          494       1    0    3      0      0         0          4\n",
              "527          528       1    0    0      0      0         1          5\n",
              "168          169       1    0    0      0      0         1          3\n",
              "\n",
              "[712 rows x 8 columns]"
            ]
          },
          "metadata": {
            "tags": []
          }
        },
        {
          "output_type": "stream",
          "text": [
            "\n",
            "t_train\n"
          ],
          "name": "stdout"
        },
        {
          "output_type": "display_data",
          "data": {
            "text/plain": [
              "30     0\n",
              "10     1\n",
              "873    0\n",
              "182    0\n",
              "876    0\n",
              "      ..\n",
              "534    0\n",
              "584    0\n",
              "493    0\n",
              "527    0\n",
              "168    0\n",
              "Name: Survived, Length: 712, dtype: int64"
            ]
          },
          "metadata": {
            "tags": []
          }
        },
        {
          "output_type": "stream",
          "text": [
            "\n",
            "X_val\n"
          ],
          "name": "stdout"
        },
        {
          "output_type": "display_data",
          "data": {
            "text/html": [
              "<div>\n",
              "<style scoped>\n",
              "    .dataframe tbody tr th:only-of-type {\n",
              "        vertical-align: middle;\n",
              "    }\n",
              "\n",
              "    .dataframe tbody tr th {\n",
              "        vertical-align: top;\n",
              "    }\n",
              "\n",
              "    .dataframe thead th {\n",
              "        text-align: right;\n",
              "    }\n",
              "</style>\n",
              "<table border=\"1\" class=\"dataframe\">\n",
              "  <thead>\n",
              "    <tr style=\"text-align: right;\">\n",
              "      <th></th>\n",
              "      <th>PassengerId</th>\n",
              "      <th>Pclass</th>\n",
              "      <th>Sex</th>\n",
              "      <th>Age</th>\n",
              "      <th>SibSp</th>\n",
              "      <th>Parch</th>\n",
              "      <th>Embarked</th>\n",
              "      <th>Fare_band</th>\n",
              "    </tr>\n",
              "  </thead>\n",
              "  <tbody>\n",
              "    <tr>\n",
              "      <th>707</th>\n",
              "      <td>708</td>\n",
              "      <td>1</td>\n",
              "      <td>0</td>\n",
              "      <td>2</td>\n",
              "      <td>0</td>\n",
              "      <td>0</td>\n",
              "      <td>1</td>\n",
              "      <td>4</td>\n",
              "    </tr>\n",
              "    <tr>\n",
              "      <th>37</th>\n",
              "      <td>38</td>\n",
              "      <td>3</td>\n",
              "      <td>0</td>\n",
              "      <td>2</td>\n",
              "      <td>0</td>\n",
              "      <td>0</td>\n",
              "      <td>1</td>\n",
              "      <td>1</td>\n",
              "    </tr>\n",
              "    <tr>\n",
              "      <th>615</th>\n",
              "      <td>616</td>\n",
              "      <td>2</td>\n",
              "      <td>1</td>\n",
              "      <td>2</td>\n",
              "      <td>1</td>\n",
              "      <td>2</td>\n",
              "      <td>1</td>\n",
              "      <td>5</td>\n",
              "    </tr>\n",
              "    <tr>\n",
              "      <th>169</th>\n",
              "      <td>170</td>\n",
              "      <td>3</td>\n",
              "      <td>0</td>\n",
              "      <td>2</td>\n",
              "      <td>0</td>\n",
              "      <td>0</td>\n",
              "      <td>1</td>\n",
              "      <td>5</td>\n",
              "    </tr>\n",
              "    <tr>\n",
              "      <th>68</th>\n",
              "      <td>69</td>\n",
              "      <td>3</td>\n",
              "      <td>1</td>\n",
              "      <td>2</td>\n",
              "      <td>4</td>\n",
              "      <td>2</td>\n",
              "      <td>1</td>\n",
              "      <td>1</td>\n",
              "    </tr>\n",
              "    <tr>\n",
              "      <th>...</th>\n",
              "      <td>...</td>\n",
              "      <td>...</td>\n",
              "      <td>...</td>\n",
              "      <td>...</td>\n",
              "      <td>...</td>\n",
              "      <td>...</td>\n",
              "      <td>...</td>\n",
              "      <td>...</td>\n",
              "    </tr>\n",
              "    <tr>\n",
              "      <th>89</th>\n",
              "      <td>90</td>\n",
              "      <td>3</td>\n",
              "      <td>0</td>\n",
              "      <td>2</td>\n",
              "      <td>0</td>\n",
              "      <td>0</td>\n",
              "      <td>1</td>\n",
              "      <td>1</td>\n",
              "    </tr>\n",
              "    <tr>\n",
              "      <th>80</th>\n",
              "      <td>81</td>\n",
              "      <td>3</td>\n",
              "      <td>0</td>\n",
              "      <td>2</td>\n",
              "      <td>0</td>\n",
              "      <td>0</td>\n",
              "      <td>1</td>\n",
              "      <td>2</td>\n",
              "    </tr>\n",
              "    <tr>\n",
              "      <th>846</th>\n",
              "      <td>847</td>\n",
              "      <td>3</td>\n",
              "      <td>0</td>\n",
              "      <td>0</td>\n",
              "      <td>8</td>\n",
              "      <td>2</td>\n",
              "      <td>1</td>\n",
              "      <td>5</td>\n",
              "    </tr>\n",
              "    <tr>\n",
              "      <th>870</th>\n",
              "      <td>871</td>\n",
              "      <td>3</td>\n",
              "      <td>0</td>\n",
              "      <td>2</td>\n",
              "      <td>0</td>\n",
              "      <td>0</td>\n",
              "      <td>1</td>\n",
              "      <td>1</td>\n",
              "    </tr>\n",
              "    <tr>\n",
              "      <th>251</th>\n",
              "      <td>252</td>\n",
              "      <td>3</td>\n",
              "      <td>1</td>\n",
              "      <td>2</td>\n",
              "      <td>1</td>\n",
              "      <td>1</td>\n",
              "      <td>1</td>\n",
              "      <td>2</td>\n",
              "    </tr>\n",
              "  </tbody>\n",
              "</table>\n",
              "<p>179 rows × 8 columns</p>\n",
              "</div>"
            ],
            "text/plain": [
              "     PassengerId  Pclass  Sex  Age  SibSp  Parch  Embarked  Fare_band\n",
              "707          708       1    0    2      0      0         1          4\n",
              "37            38       3    0    2      0      0         1          1\n",
              "615          616       2    1    2      1      2         1          5\n",
              "169          170       3    0    2      0      0         1          5\n",
              "68            69       3    1    2      4      2         1          1\n",
              "..           ...     ...  ...  ...    ...    ...       ...        ...\n",
              "89            90       3    0    2      0      0         1          1\n",
              "80            81       3    0    2      0      0         1          2\n",
              "846          847       3    0    0      8      2         1          5\n",
              "870          871       3    0    2      0      0         1          1\n",
              "251          252       3    1    2      1      1         1          2\n",
              "\n",
              "[179 rows x 8 columns]"
            ]
          },
          "metadata": {
            "tags": []
          }
        },
        {
          "output_type": "stream",
          "text": [
            "\n",
            "t_val\n"
          ],
          "name": "stdout"
        },
        {
          "output_type": "display_data",
          "data": {
            "text/plain": [
              "707    1\n",
              "37     0\n",
              "615    1\n",
              "169    0\n",
              "68     1\n",
              "      ..\n",
              "89     0\n",
              "80     0\n",
              "846    0\n",
              "870    0\n",
              "251    0\n",
              "Name: Survived, Length: 179, dtype: int64"
            ]
          },
          "metadata": {
            "tags": []
          }
        }
      ]
    },
    {
      "cell_type": "markdown",
      "metadata": {
        "id": "USpBP3OO9sHi"
      },
      "source": [
        "SGD_cls.score\n",
        "\n",
        "---\n",
        "\n"
      ]
    },
    {
      "cell_type": "code",
      "metadata": {
        "id": "gnelCMI-DqTJ",
        "colab": {
          "base_uri": "https://localhost:8080/"
        },
        "outputId": "6dde2996-9723-4a35-f81c-692c49a7286a"
      },
      "source": [
        "# create the SGDClassifier and predict the probabilities of the train and test data\n",
        "from sklearn import pipeline\n",
        "from sklearn import preprocessing\n",
        "from sklearn import linear_model\n",
        "from sklearn import model_selection\n",
        "SGD_cls = pipeline.make_pipeline(preprocessing.StandardScaler(), linear_model.SGDClassifier(loss='log', alpha=0, learning_rate='constant', eta0=0.01)).fit(X_train, t_train)\n",
        "y_train_prob = SGD_cls.predict_proba(X_train)\n",
        "y_test_prob = SGD_cls.predict_proba(X_val)\n",
        "y_train = SGD_cls.predict(X_train)\n",
        "y_test = SGD_cls.predict(X_val)\n",
        "print('first 5 probabilities of y_train_prob:')\n",
        "print(y_train_prob[:5])\n",
        "print()\n",
        "print('first 5 predictions of y_train:')\n",
        "print(y_train[:5])\n",
        "print()\n",
        "print('first 5 probabilities of y_test_prob:')\n",
        "print(y_test_prob[:5])\n",
        "print()\n",
        "print('first 5 predictions of y_test:')\n",
        "print(y_test[:5])"
      ],
      "execution_count": 121,
      "outputs": [
        {
          "output_type": "stream",
          "text": [
            "first 5 probabilities of y_train_prob:\n",
            "[[0.59141294 0.40858706]\n",
            " [0.39670341 0.60329659]\n",
            " [0.8845898  0.1154102 ]\n",
            " [0.97146196 0.02853804]\n",
            " [0.88448908 0.11551092]]\n",
            "\n",
            "first 5 predictions of y_train:\n",
            "[0 1 0 0 0]\n",
            "\n",
            "first 5 probabilities of y_test_prob:\n",
            "[[0.5786211  0.4213789 ]\n",
            " [0.9297879  0.0702121 ]\n",
            " [0.19174742 0.80825258]\n",
            " [0.81031823 0.18968177]\n",
            " [0.85264878 0.14735122]]\n",
            "\n",
            "first 5 predictions of y_test:\n",
            "[0 0 1 0 0]\n"
          ],
          "name": "stdout"
        }
      ]
    },
    {
      "cell_type": "code",
      "metadata": {
        "id": "AUBpJ5q7Ml-s",
        "colab": {
          "base_uri": "https://localhost:8080/"
        },
        "outputId": "4a88c25a-3554-49e8-d8ad-8e2d497af5d4"
      },
      "source": [
        "from sklearn import metrics\n",
        "print('Accuracy score on train', SGD_cls.score(X_train, t_train))\n",
        "print('Accuracy score on test', SGD_cls.score(X_val, t_val))\n",
        "print()\n",
        "print('CE on train', metrics.log_loss(t_train, y_train_prob))\n",
        "print('CE on test', metrics.log_loss(t_val, y_test_prob))"
      ],
      "execution_count": 122,
      "outputs": [
        {
          "output_type": "stream",
          "text": [
            "Accuracy score on train 0.7991573033707865\n",
            "Accuracy score on test 0.7486033519553073\n",
            "\n",
            "CE on train 0.4399560814671411\n",
            "CE on test 0.514585664375355\n"
          ],
          "name": "stdout"
        }
      ]
    },
    {
      "cell_type": "markdown",
      "metadata": {
        "id": "KaFZfS9n-DOE"
      },
      "source": [
        "LogisticRegression\n",
        "\n",
        "---\n",
        "\n"
      ]
    },
    {
      "cell_type": "code",
      "metadata": {
        "id": "yKBiw3pVLYwc",
        "colab": {
          "base_uri": "https://localhost:8080/"
        },
        "outputId": "75604bd7-298a-4c21-e1f0-d7c4ab572f25"
      },
      "source": [
        "linear_model.LogisticRegression()\n",
        "from sklearn import pipeline\n",
        "from sklearn import preprocessing\n",
        "from sklearn import linear_model\n",
        "from sklearn import model_selection\n",
        "SGD_cls = pipeline.make_pipeline(preprocessing.StandardScaler(), linear_model.LogisticRegression()).fit(X_train, t_train)\n",
        "y_train_prob = SGD_cls.predict_proba(X_train)\n",
        "y_test_prob = SGD_cls.predict_proba(X_val)\n",
        "y_train = SGD_cls.predict(X_train)\n",
        "y_test = SGD_cls.predict(X_val)\n",
        "print('first 5 probabilities of y_train_prob:')\n",
        "print(y_train_prob[:5])\n",
        "print()\n",
        "print('first 5 predictions of y_train:')\n",
        "print(y_train[:5])\n",
        "print()\n",
        "print('first 5 probabilities of y_test_prob:')\n",
        "print(y_test_prob[:5])\n",
        "print()\n",
        "print('first 5 predictions of y_test:')\n",
        "print(y_test[:5])"
      ],
      "execution_count": 123,
      "outputs": [
        {
          "output_type": "stream",
          "text": [
            "first 5 probabilities of y_train_prob:\n",
            "[[0.60379574 0.39620426]\n",
            " [0.39752898 0.60247102]\n",
            " [0.87445268 0.12554732]\n",
            " [0.97133925 0.02866075]\n",
            " [0.87432436 0.12567564]]\n",
            "\n",
            "first 5 predictions of y_train:\n",
            "[0 1 0 0 0]\n",
            "\n",
            "first 5 probabilities of y_test_prob:\n",
            "[[0.57147437 0.42852563]\n",
            " [0.92713181 0.07286819]\n",
            " [0.19293711 0.80706289]\n",
            " [0.79966924 0.20033076]\n",
            " [0.86066632 0.13933368]]\n",
            "\n",
            "first 5 predictions of y_test:\n",
            "[0 0 1 0 0]\n"
          ],
          "name": "stdout"
        }
      ]
    },
    {
      "cell_type": "code",
      "metadata": {
        "id": "U5dt9p5cJRdv",
        "colab": {
          "base_uri": "https://localhost:8080/"
        },
        "outputId": "30fefc14-c79c-4cd0-9f6a-792c48c6f6bf"
      },
      "source": [
        "from sklearn import metrics\n",
        "print('Accuracy score on train', SGD_cls.score(X_train, t_train))\n",
        "print('Accuracy score on test', SGD_cls.score(X_val, t_val))\n",
        "print()\n",
        "print('CE on train', metrics.log_loss(t_train, y_train_prob))\n",
        "print('CE on test', metrics.log_loss(t_val, y_test_prob))"
      ],
      "execution_count": 124,
      "outputs": [
        {
          "output_type": "stream",
          "text": [
            "Accuracy score on train 0.797752808988764\n",
            "Accuracy score on test 0.7486033519553073\n",
            "\n",
            "CE on train 0.4398254953194317\n",
            "CE on test 0.5139265322818273\n"
          ],
          "name": "stdout"
        }
      ]
    },
    {
      "cell_type": "markdown",
      "metadata": {
        "id": "XzHxB6faaWU7"
      },
      "source": [
        "MLPClassifier\n",
        "\n",
        "---\n",
        "\n"
      ]
    },
    {
      "cell_type": "code",
      "metadata": {
        "id": "8vRjEgffM_Kc",
        "colab": {
          "base_uri": "https://localhost:8080/"
        },
        "outputId": "5b8c6dc7-ed70-4ddf-a50b-2a634cb55ab3"
      },
      "source": [
        "# import neural_network and run MLP on the data\n",
        "from sklearn import neural_network\n",
        "MLP_cls = neural_network.MLPClassifier(activation='logistic', solver='sgd', alpha=0, max_iter=10000).fit(X_train, t_train)\n",
        "y_train_prob = MLP_cls.predict_proba(X_train)\n",
        "y_test_prob = MLP_cls.predict_proba(X_val)\n",
        "print('Accuracy score on train', MLP_cls.score(X_train, t_train))\n",
        "print('Accuracy score on test', MLP_cls.score(X_val, t_val))\n",
        "print()\n",
        "print('CE on train', metrics.log_loss(t_train, y_train_prob))\n",
        "print('CE on test', metrics.log_loss(t_val, y_test_prob))"
      ],
      "execution_count": 125,
      "outputs": [
        {
          "output_type": "stream",
          "text": [
            "Accuracy score on train 0.6306179775280899\n",
            "Accuracy score on test 0.5586592178770949\n",
            "\n",
            "CE on train 0.6556183908417761\n",
            "CE on test 0.69657272454569\n"
          ],
          "name": "stdout"
        }
      ]
    },
    {
      "cell_type": "code",
      "metadata": {
        "id": "SgJt06KzPqkh",
        "colab": {
          "base_uri": "https://localhost:8080/",
          "height": 415
        },
        "outputId": "8b31df80-1e74-4200-8096-169f9043eed0"
      },
      "source": [
        "\n",
        "test_df"
      ],
      "execution_count": 126,
      "outputs": [
        {
          "output_type": "execute_result",
          "data": {
            "text/html": [
              "<div>\n",
              "<style scoped>\n",
              "    .dataframe tbody tr th:only-of-type {\n",
              "        vertical-align: middle;\n",
              "    }\n",
              "\n",
              "    .dataframe tbody tr th {\n",
              "        vertical-align: top;\n",
              "    }\n",
              "\n",
              "    .dataframe thead th {\n",
              "        text-align: right;\n",
              "    }\n",
              "</style>\n",
              "<table border=\"1\" class=\"dataframe\">\n",
              "  <thead>\n",
              "    <tr style=\"text-align: right;\">\n",
              "      <th></th>\n",
              "      <th>PassengerId</th>\n",
              "      <th>Pclass</th>\n",
              "      <th>Sex</th>\n",
              "      <th>Age</th>\n",
              "      <th>SibSp</th>\n",
              "      <th>Parch</th>\n",
              "      <th>Embarked</th>\n",
              "      <th>Fare_band</th>\n",
              "    </tr>\n",
              "  </thead>\n",
              "  <tbody>\n",
              "    <tr>\n",
              "      <th>0</th>\n",
              "      <td>892</td>\n",
              "      <td>3</td>\n",
              "      <td>0</td>\n",
              "      <td>2</td>\n",
              "      <td>0</td>\n",
              "      <td>0</td>\n",
              "      <td>2</td>\n",
              "      <td>1</td>\n",
              "    </tr>\n",
              "    <tr>\n",
              "      <th>1</th>\n",
              "      <td>893</td>\n",
              "      <td>3</td>\n",
              "      <td>1</td>\n",
              "      <td>2</td>\n",
              "      <td>1</td>\n",
              "      <td>0</td>\n",
              "      <td>1</td>\n",
              "      <td>0</td>\n",
              "    </tr>\n",
              "    <tr>\n",
              "      <th>2</th>\n",
              "      <td>894</td>\n",
              "      <td>2</td>\n",
              "      <td>0</td>\n",
              "      <td>3</td>\n",
              "      <td>0</td>\n",
              "      <td>0</td>\n",
              "      <td>2</td>\n",
              "      <td>2</td>\n",
              "    </tr>\n",
              "    <tr>\n",
              "      <th>3</th>\n",
              "      <td>895</td>\n",
              "      <td>3</td>\n",
              "      <td>0</td>\n",
              "      <td>2</td>\n",
              "      <td>0</td>\n",
              "      <td>0</td>\n",
              "      <td>1</td>\n",
              "      <td>2</td>\n",
              "    </tr>\n",
              "    <tr>\n",
              "      <th>4</th>\n",
              "      <td>896</td>\n",
              "      <td>3</td>\n",
              "      <td>1</td>\n",
              "      <td>2</td>\n",
              "      <td>1</td>\n",
              "      <td>1</td>\n",
              "      <td>1</td>\n",
              "      <td>2</td>\n",
              "    </tr>\n",
              "    <tr>\n",
              "      <th>...</th>\n",
              "      <td>...</td>\n",
              "      <td>...</td>\n",
              "      <td>...</td>\n",
              "      <td>...</td>\n",
              "      <td>...</td>\n",
              "      <td>...</td>\n",
              "      <td>...</td>\n",
              "      <td>...</td>\n",
              "    </tr>\n",
              "    <tr>\n",
              "      <th>413</th>\n",
              "      <td>1305</td>\n",
              "      <td>3</td>\n",
              "      <td>0</td>\n",
              "      <td>0</td>\n",
              "      <td>0</td>\n",
              "      <td>0</td>\n",
              "      <td>1</td>\n",
              "      <td>1</td>\n",
              "    </tr>\n",
              "    <tr>\n",
              "      <th>414</th>\n",
              "      <td>1306</td>\n",
              "      <td>1</td>\n",
              "      <td>1</td>\n",
              "      <td>2</td>\n",
              "      <td>0</td>\n",
              "      <td>0</td>\n",
              "      <td>0</td>\n",
              "      <td>5</td>\n",
              "    </tr>\n",
              "    <tr>\n",
              "      <th>415</th>\n",
              "      <td>1307</td>\n",
              "      <td>3</td>\n",
              "      <td>0</td>\n",
              "      <td>2</td>\n",
              "      <td>0</td>\n",
              "      <td>0</td>\n",
              "      <td>1</td>\n",
              "      <td>0</td>\n",
              "    </tr>\n",
              "    <tr>\n",
              "      <th>416</th>\n",
              "      <td>1308</td>\n",
              "      <td>3</td>\n",
              "      <td>0</td>\n",
              "      <td>0</td>\n",
              "      <td>0</td>\n",
              "      <td>0</td>\n",
              "      <td>1</td>\n",
              "      <td>1</td>\n",
              "    </tr>\n",
              "    <tr>\n",
              "      <th>417</th>\n",
              "      <td>1309</td>\n",
              "      <td>3</td>\n",
              "      <td>0</td>\n",
              "      <td>0</td>\n",
              "      <td>1</td>\n",
              "      <td>1</td>\n",
              "      <td>0</td>\n",
              "      <td>3</td>\n",
              "    </tr>\n",
              "  </tbody>\n",
              "</table>\n",
              "<p>418 rows × 8 columns</p>\n",
              "</div>"
            ],
            "text/plain": [
              "     PassengerId  Pclass  Sex  Age  SibSp  Parch  Embarked  Fare_band\n",
              "0            892       3    0    2      0      0         2          1\n",
              "1            893       3    1    2      1      0         1          0\n",
              "2            894       2    0    3      0      0         2          2\n",
              "3            895       3    0    2      0      0         1          2\n",
              "4            896       3    1    2      1      1         1          2\n",
              "..           ...     ...  ...  ...    ...    ...       ...        ...\n",
              "413         1305       3    0    0      0      0         1          1\n",
              "414         1306       1    1    2      0      0         0          5\n",
              "415         1307       3    0    2      0      0         1          0\n",
              "416         1308       3    0    0      0      0         1          1\n",
              "417         1309       3    0    0      1      1         0          3\n",
              "\n",
              "[418 rows x 8 columns]"
            ]
          },
          "metadata": {
            "tags": []
          },
          "execution_count": 126
        }
      ]
    },
    {
      "cell_type": "code",
      "metadata": {
        "colab": {
          "base_uri": "https://localhost:8080/",
          "height": 415
        },
        "id": "F0pBzlKM_whc",
        "outputId": "d651abaf-a1f8-4eb6-dbf3-1fa338f1c72a"
      },
      "source": [
        "train_df"
      ],
      "execution_count": 127,
      "outputs": [
        {
          "output_type": "execute_result",
          "data": {
            "text/html": [
              "<div>\n",
              "<style scoped>\n",
              "    .dataframe tbody tr th:only-of-type {\n",
              "        vertical-align: middle;\n",
              "    }\n",
              "\n",
              "    .dataframe tbody tr th {\n",
              "        vertical-align: top;\n",
              "    }\n",
              "\n",
              "    .dataframe thead th {\n",
              "        text-align: right;\n",
              "    }\n",
              "</style>\n",
              "<table border=\"1\" class=\"dataframe\">\n",
              "  <thead>\n",
              "    <tr style=\"text-align: right;\">\n",
              "      <th></th>\n",
              "      <th>PassengerId</th>\n",
              "      <th>Survived</th>\n",
              "      <th>Pclass</th>\n",
              "      <th>Sex</th>\n",
              "      <th>Age</th>\n",
              "      <th>SibSp</th>\n",
              "      <th>Parch</th>\n",
              "      <th>Embarked</th>\n",
              "      <th>Fare_band</th>\n",
              "    </tr>\n",
              "  </thead>\n",
              "  <tbody>\n",
              "    <tr>\n",
              "      <th>0</th>\n",
              "      <td>1</td>\n",
              "      <td>0</td>\n",
              "      <td>3</td>\n",
              "      <td>0</td>\n",
              "      <td>2</td>\n",
              "      <td>1</td>\n",
              "      <td>0</td>\n",
              "      <td>1</td>\n",
              "      <td>0</td>\n",
              "    </tr>\n",
              "    <tr>\n",
              "      <th>1</th>\n",
              "      <td>2</td>\n",
              "      <td>1</td>\n",
              "      <td>1</td>\n",
              "      <td>1</td>\n",
              "      <td>2</td>\n",
              "      <td>1</td>\n",
              "      <td>0</td>\n",
              "      <td>0</td>\n",
              "      <td>5</td>\n",
              "    </tr>\n",
              "    <tr>\n",
              "      <th>2</th>\n",
              "      <td>3</td>\n",
              "      <td>1</td>\n",
              "      <td>3</td>\n",
              "      <td>1</td>\n",
              "      <td>2</td>\n",
              "      <td>0</td>\n",
              "      <td>0</td>\n",
              "      <td>1</td>\n",
              "      <td>1</td>\n",
              "    </tr>\n",
              "    <tr>\n",
              "      <th>3</th>\n",
              "      <td>4</td>\n",
              "      <td>1</td>\n",
              "      <td>1</td>\n",
              "      <td>1</td>\n",
              "      <td>2</td>\n",
              "      <td>1</td>\n",
              "      <td>0</td>\n",
              "      <td>1</td>\n",
              "      <td>5</td>\n",
              "    </tr>\n",
              "    <tr>\n",
              "      <th>4</th>\n",
              "      <td>5</td>\n",
              "      <td>0</td>\n",
              "      <td>3</td>\n",
              "      <td>0</td>\n",
              "      <td>2</td>\n",
              "      <td>0</td>\n",
              "      <td>0</td>\n",
              "      <td>1</td>\n",
              "      <td>1</td>\n",
              "    </tr>\n",
              "    <tr>\n",
              "      <th>...</th>\n",
              "      <td>...</td>\n",
              "      <td>...</td>\n",
              "      <td>...</td>\n",
              "      <td>...</td>\n",
              "      <td>...</td>\n",
              "      <td>...</td>\n",
              "      <td>...</td>\n",
              "      <td>...</td>\n",
              "      <td>...</td>\n",
              "    </tr>\n",
              "    <tr>\n",
              "      <th>886</th>\n",
              "      <td>887</td>\n",
              "      <td>0</td>\n",
              "      <td>2</td>\n",
              "      <td>0</td>\n",
              "      <td>2</td>\n",
              "      <td>0</td>\n",
              "      <td>0</td>\n",
              "      <td>1</td>\n",
              "      <td>2</td>\n",
              "    </tr>\n",
              "    <tr>\n",
              "      <th>887</th>\n",
              "      <td>888</td>\n",
              "      <td>1</td>\n",
              "      <td>1</td>\n",
              "      <td>1</td>\n",
              "      <td>2</td>\n",
              "      <td>0</td>\n",
              "      <td>0</td>\n",
              "      <td>1</td>\n",
              "      <td>4</td>\n",
              "    </tr>\n",
              "    <tr>\n",
              "      <th>888</th>\n",
              "      <td>889</td>\n",
              "      <td>0</td>\n",
              "      <td>3</td>\n",
              "      <td>1</td>\n",
              "      <td>0</td>\n",
              "      <td>1</td>\n",
              "      <td>2</td>\n",
              "      <td>1</td>\n",
              "      <td>3</td>\n",
              "    </tr>\n",
              "    <tr>\n",
              "      <th>889</th>\n",
              "      <td>890</td>\n",
              "      <td>1</td>\n",
              "      <td>1</td>\n",
              "      <td>0</td>\n",
              "      <td>2</td>\n",
              "      <td>0</td>\n",
              "      <td>0</td>\n",
              "      <td>0</td>\n",
              "      <td>4</td>\n",
              "    </tr>\n",
              "    <tr>\n",
              "      <th>890</th>\n",
              "      <td>891</td>\n",
              "      <td>0</td>\n",
              "      <td>3</td>\n",
              "      <td>0</td>\n",
              "      <td>2</td>\n",
              "      <td>0</td>\n",
              "      <td>0</td>\n",
              "      <td>2</td>\n",
              "      <td>0</td>\n",
              "    </tr>\n",
              "  </tbody>\n",
              "</table>\n",
              "<p>891 rows × 9 columns</p>\n",
              "</div>"
            ],
            "text/plain": [
              "     PassengerId  Survived  Pclass  Sex  Age  SibSp  Parch  Embarked  Fare_band\n",
              "0              1         0       3    0    2      1      0         1          0\n",
              "1              2         1       1    1    2      1      0         0          5\n",
              "2              3         1       3    1    2      0      0         1          1\n",
              "3              4         1       1    1    2      1      0         1          5\n",
              "4              5         0       3    0    2      0      0         1          1\n",
              "..           ...       ...     ...  ...  ...    ...    ...       ...        ...\n",
              "886          887         0       2    0    2      0      0         1          2\n",
              "887          888         1       1    1    2      0      0         1          4\n",
              "888          889         0       3    1    0      1      2         1          3\n",
              "889          890         1       1    0    2      0      0         0          4\n",
              "890          891         0       3    0    2      0      0         2          0\n",
              "\n",
              "[891 rows x 9 columns]"
            ]
          },
          "metadata": {
            "tags": []
          },
          "execution_count": 127
        }
      ]
    },
    {
      "cell_type": "markdown",
      "metadata": {
        "id": "KjvAa0rwby2b"
      },
      "source": [
        "#6. My submission\n",
        "\n",
        "---"
      ]
    },
    {
      "cell_type": "code",
      "metadata": {
        "id": "m3cr_NzSN9xi"
      },
      "source": [
        "passenger_id = test_df['PassengerId'].values\n",
        "y_test = SGD_cls.predict(test_df)\n",
        "submission = pd.DataFrame({ 'PassengerId': passenger_id, 'Survived':y_test})\n",
        "submission.to_csv(\"submission.csv\", index=False)"
      ],
      "execution_count": 128,
      "outputs": []
    },
    {
      "cell_type": "markdown",
      "metadata": {
        "id": "B5hIhhG8VPCK"
      },
      "source": [
        "![image](https://user-images.githubusercontent.com/49269120/99592197-8da59780-29f8-11eb-86fd-0642d384445f.png)"
      ]
    },
    {
      "cell_type": "markdown",
      "metadata": {
        "id": "4Ij9jEW2VdGw"
      },
      "source": [
        "![image](https://user-images.githubusercontent.com/49269120/99592310-b9c11880-29f8-11eb-9f9f-ef42e6a1368e.png)\n"
      ]
    },
    {
      "cell_type": "markdown",
      "metadata": {
        "id": "EAzPfo8hVv30"
      },
      "source": [
        "![image](https://user-images.githubusercontent.com/49269120/99592434-e37a3f80-29f8-11eb-908e-134054c048a1.png)\n"
      ]
    },
    {
      "cell_type": "markdown",
      "metadata": {
        "id": "K5E0zB-EV06x"
      },
      "source": [
        "\n",
        "#7. References\n",
        "\n",
        "---\n",
        "\n",
        "\n",
        "https://www.kaggle.com/masumrumi/a-statistical-analysis-ml-workflow-of-titanic#Part-4:-Statistical-Overview\n",
        "\n",
        "https://www.kaggle.com/pmarcelino/data-analysis-and-feature-extraction-with-python\n",
        "\n",
        "https://www.kaggle.com/vikumsw/beginners-basic-workflow-introduction\n",
        "\n",
        "https://www.kaggle.com/pavlofesenko/simplest-top-10-titanic-0-80861\n",
        "\n",
        "https://www.kaggle.com/c/titanic/data - for data of the competition  \n",
        "\n",
        "https://www.kaggle.com/c/titanic/notebooks - kaggle's notebooks  \n",
        "\n",
        "https://seaborn.pydata.org/tutorial - for functions, graphs, style and colors  \n",
        "\n",
        "https://matplotlib.org/3.1.0/tutorials/index.html - for functions, graphs, style and colors  \n"
      ]
    }
  ]
}